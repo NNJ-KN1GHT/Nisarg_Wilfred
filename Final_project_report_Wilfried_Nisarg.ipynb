{
  "cells": [
    {
      "cell_type": "markdown",
      "source": [
        "## Machine Learning Based Classification for Sentimental analysis of IMDb Reviews"
      ],
      "metadata": {
        "id": "nmGyeLLP9XRh"
      }
    },
    {
      "cell_type": "markdown",
      "source": [
        "##### Group members: Nisarg Joshi - Wilfried Tcheumaha"
      ],
      "metadata": {
        "id": "_3Tr-ZYn9l6R"
      }
    },
    {
      "cell_type": "markdown",
      "source": [
        "## Introduction"
      ],
      "metadata": {
        "id": "hDe2fsdE9yco"
      }
    },
    {
      "cell_type": "markdown",
      "source": [
        " [Git repo](https://github.com/JoshWuuu/Machine-Learning-based-classification-for-Sentimental-analysis-of-IMDb-reviews)"
      ],
      "metadata": {
        "id": "i9k_Amma947e"
      }
    },
    {
      "cell_type": "markdown",
      "source": [
        "### Description of the paper\n",
        "The paper focuses on using machine learning algorithms to perform sentiment analysis on IMDb movie reviews. Sentiment analysis is a natural language processing (NLP) task that aims to determine the emotional tone or sentiment expressed in a piece of text. In this context, the paper specifically targets reviews from the IMDb website, which is known for hosting user-generated movie reviews and ratings."
      ],
      "metadata": {
        "id": "CalqER2r99bn"
      }
    },
    {
      "cell_type": "markdown",
      "source": [
        "### Problem statement\n",
        "In the realm of natural language processing (NLP) and sentiment analysis, neural networks have proven to be powerful tools for understanding and classifying the sentiment expressed in text data. However, the performance of neural networks heavily relies on the selection of hyperparameters, which can significantly impact both training efficiency and model effectiveness. This work aims to address the challenge of hyperparameter tuning for neural networks used in text sentiment classification tasks."
      ],
      "metadata": {
        "id": "pWWry6Is-ChZ"
      }
    },
    {
      "cell_type": "markdown",
      "source": [
        "### Context of the problem\n",
        "The search space for hyperparameters can be vast, making manual tuning impractical.\n",
        "Balancing the trade-off between overfitting and underfitting is a critical challenge.\n",
        "Different hyperparameters might interact with each other, requiring careful experimentation."
      ],
      "metadata": {
        "id": "wvKcmLiZ-GP4"
      }
    },
    {
      "cell_type": "markdown",
      "source": [
        "## Implementation paper Code"
      ],
      "metadata": {
        "id": "bSrZmBAs-Us_"
      }
    },
    {
      "cell_type": "markdown",
      "metadata": {
        "id": "zSxHNLrsARBA"
      },
      "source": [
        "#### Setting"
      ]
    },
    {
      "cell_type": "code",
      "execution_count": 1,
      "metadata": {
        "colab": {
          "base_uri": "https://localhost:8080/"
        },
        "id": "DSFi--0tAXqo",
        "outputId": "61117545-b577-459f-bd05-09f84c9a0eac"
      },
      "outputs": [
        {
          "output_type": "stream",
          "name": "stderr",
          "text": [
            "[nltk_data] Downloading package wordnet to /root/nltk_data...\n"
          ]
        }
      ],
      "source": [
        "import numpy as np\n",
        "import tensorflow as tf\n",
        "import tensorflow_hub as hub\n",
        "import keras\n",
        "import random\n",
        "import tensorflow_datasets as tfds\n",
        "import matplotlib.pyplot as plt\n",
        "from nltk.corpus import stopwords\n",
        "import re\n",
        "from nltk.stem import WordNetLemmatizer\n",
        "from sklearn.feature_extraction.text import TfidfVectorizer\n",
        "from sklearn.feature_extraction.text import CountVectorizer\n",
        "from sklearn.linear_model import LogisticRegression\n",
        "from sklearn.svm import LinearSVC\n",
        "from sklearn.naive_bayes import MultinomialNB\n",
        "from sklearn.ensemble import RandomForestClassifier\n",
        "from sklearn.ensemble import GradientBoostingClassifier\n",
        "from sklearn.neural_network import MLPClassifier\n",
        "from sklearn.metrics import accuracy_score\n",
        "from sklearn.model_selection import train_test_split\n",
        "from sklearn.model_selection import cross_val_score\n",
        "import nltk\n",
        "nltk.download('wordnet')\n",
        "import os"
      ]
    },
    {
      "cell_type": "markdown",
      "metadata": {
        "id": "6MNwnR2sAX9c"
      },
      "source": [
        "# Data loading"
      ]
    },
    {
      "cell_type": "code",
      "execution_count": 2,
      "metadata": {
        "colab": {
          "base_uri": "https://localhost:8080/",
          "height": 136,
          "referenced_widgets": [
            "b6a423acc6cf4c8f8368bbd4313cb896",
            "8af5b981ff054410b8e229ab37b9fc82",
            "815293d88151441dba7057de62bd144a",
            "25220b2889524e5b85f81aab5abd0bb7",
            "45f47f6b029a4ff694cba75a9cb7ea4c",
            "040dc56c4cd74007856013827a3ecb58",
            "f6b7418e7ebe46d995efb50e072a84e4",
            "10f0b66987f94345a3089b0aa07cd952",
            "41f2cd7f86054142a5d813f82d77e4c2",
            "51768717921f475abe97ad5fd0668715",
            "c7333cf22651468f826d9d33afb0ff2b",
            "fb57a31b7f164fee81faabe896447571",
            "57769877999546188cd88d6d5f87903f",
            "2648f402566e401e8dea22dd9a60d63c",
            "02545f6219a1497ca7c6c6035694f4b1",
            "526a702a719a405fbc56a1c86416e2dd",
            "60ecedc43bf14d068ccd94bb81d1a4d0",
            "e47b327d684c432cb83312701d636deb",
            "06a20bd37c174f66a0561b2cbfc48a25",
            "a6ddbeaad3814316b570317e01c82e2a",
            "34972ee9f3ed43d8888f44bfbf06016a",
            "5748a1d5f7994b18a2a9e4850ebbc948",
            "d711cc163a9b4bdca2a99ca77092fd97",
            "fad1d28eb0764f97be7a54b1a01adf5f",
            "5d4899fac1394467b52e11ee32c2483d",
            "a26d4c5071074a689f2bfb954515e9d3",
            "50d8435bb60e4e4db65254ea17b98204",
            "d4233a27c614461cae6f350b78cad128",
            "9c47c1202e454435afb780185bc10c6d",
            "0707a6559eb24a8bb52a43126b014dbb",
            "982a4561fc214bccafa1763ae2e368af",
            "aa58b89e1afd45249d20a032d4457f79",
            "de5d1dbc01f04ea196a039e962fd175e",
            "7ea90df35b8849918580ec096d790e0c",
            "83832696a58b4b7e9fc41e70e0fe65e5",
            "366f58b539ad46979a6d3e3fee84ca03",
            "7f90a850a92e4003a59c31342c7e61c2",
            "6220089ce779497bb82ca319c90accac",
            "32bf5861f15b406aad6dc9a598fcf530",
            "e16fd13e66ed4cc7a64889fe9502c993",
            "f0320875b43e4d60ab9f37c077129e07",
            "e121bdc37a4547a0bf0dc842fac3c657",
            "73d79c29f4a94ae68c6c88a4c59c7782",
            "ae00f5c27fd446e2af21c3d93f116b9f",
            "c09082961b404651be91cfe9481f8760",
            "613e059d3eca47448a50b35a0bb3c18b",
            "e6d8aa7f956d4c2595b201fec7a65b6f",
            "c97d1fbf133f4193a8268e724064be27",
            "88ef1ed23a93448882f06f82fc0afc42",
            "dbb34e25555e465281bcf2e5c4b4968a",
            "108f88333f424ca68d3bcd807acbc22b",
            "ba0e1d12ca8e431d80d455a99c435fb6",
            "87de1cd67914466cb99daadb8a9a6c3f",
            "ddb0c22b783342deb3b60f372ed38217",
            "efd4fa11258e4015909b62a53e17ae86",
            "3dbb0eb81e0543949968f6df8210c5ba",
            "4a17862a597e4d229b6df2ba9729ab8c",
            "3ed43821f60a43cc865fe34f44d2b16d",
            "7e923887c8d4485088f8970dc8249c77",
            "0881458b8ded417b88a314310294597b",
            "d1509325bf6e41bfb92dcf8aaf3eb8a5",
            "f4dba9712dea4ff28b8aaa574d7c8768",
            "e1899c3af3434f7888820d2966a08453",
            "0d6ea5aa1e4e42bbb87edc95d2da4b19",
            "a7b0df28bf5644dc9696f263bfdaf05e",
            "99e8c369810c4bf2b311cd32aa4a51b7",
            "0bf680288aaa4e22a1ef1463b76e92e8",
            "cba6df663ce8456cb34fd5c6f84be9cc",
            "5f4af54c365b4b8690abb6be79b20ef5",
            "feb31a843f0a45f6b941ca10776e4442",
            "14d4955156144b9da88610a7d1a84cf1",
            "c36a6ee748e64a1a9c6a0d0e387d2d02",
            "e8903433177546f2869f04f1b27d5845",
            "97eb8e4c262d485bbb91d200b5aea562",
            "742c6ad967d6467a975b2c058681c21b",
            "e7ab98b60ce9441eacf4302475947dc0",
            "8044c4103e564a12bb63494cf1a500fc",
            "b5da04df59ae4250a59276230ba18447",
            "78583958c5b740eb94f90bad2f9e9e54",
            "0f2b309bd2814e27848f808b6fb85ad1",
            "0045e4aabc1e4255a9fe68dfce6d5a78",
            "f8624d7ba22f484db3e00bf6c7111277",
            "90f1f5e9b65340fab3887a72e2ed2cb6",
            "e4c7f6eb8f2645bcbf922a0e9309467d",
            "190d05f3b2d249008054fb105f694009",
            "0a3fefdd648e49a7aa5878ac69c421b1",
            "38e11783eb194c28816e1efbbb55338d",
            "2a101404665540cca92ecc8da89aa785",
            "41dfe4a5fbf74fdabe99d269a2cde37a",
            "eb6f8613a8534bd4b1d1cfce9bd245a7",
            "b06aa0e642b94acdb42a8bc8751a4454",
            "bc80acdfc1a042bfb55b442b0b4f0b91",
            "4d773f743d2843c899a18d8120bc54dc",
            "c099ed0dc96c4568ad1d478b703ec4f9",
            "bae9db8aa5bf43ad8cb12295ce102b58",
            "8b8b3d4915674682bba5cc5328399cf6",
            "c2539980857247479ad27e6b8001ee0d",
            "d0990f3f32ed48e0a6471489b184cc4e",
            "82f4a099fa1a4e7d9ffc7260dca067d4"
          ]
        },
        "id": "T8jFEDZOVMnH",
        "outputId": "69bbdb4c-c3c7-4e1e-8197-121e8a258f7a"
      },
      "outputs": [
        {
          "output_type": "stream",
          "name": "stdout",
          "text": [
            "Downloading and preparing dataset 80.23 MiB (download: 80.23 MiB, generated: Unknown size, total: 80.23 MiB) to /root/tensorflow_datasets/imdb_reviews/plain_text/1.0.0...\n"
          ]
        },
        {
          "output_type": "display_data",
          "data": {
            "text/plain": [
              "Dl Completed...: 0 url [00:00, ? url/s]"
            ],
            "application/vnd.jupyter.widget-view+json": {
              "version_major": 2,
              "version_minor": 0,
              "model_id": "b6a423acc6cf4c8f8368bbd4313cb896"
            }
          },
          "metadata": {}
        },
        {
          "output_type": "display_data",
          "data": {
            "text/plain": [
              "Dl Size...: 0 MiB [00:00, ? MiB/s]"
            ],
            "application/vnd.jupyter.widget-view+json": {
              "version_major": 2,
              "version_minor": 0,
              "model_id": "fb57a31b7f164fee81faabe896447571"
            }
          },
          "metadata": {}
        },
        {
          "output_type": "display_data",
          "data": {
            "text/plain": [
              "Generating splits...:   0%|          | 0/3 [00:00<?, ? splits/s]"
            ],
            "application/vnd.jupyter.widget-view+json": {
              "version_major": 2,
              "version_minor": 0,
              "model_id": "d711cc163a9b4bdca2a99ca77092fd97"
            }
          },
          "metadata": {}
        },
        {
          "output_type": "display_data",
          "data": {
            "text/plain": [
              "Generating train examples...:   0%|          | 0/25000 [00:00<?, ? examples/s]"
            ],
            "application/vnd.jupyter.widget-view+json": {
              "version_major": 2,
              "version_minor": 0,
              "model_id": "7ea90df35b8849918580ec096d790e0c"
            }
          },
          "metadata": {}
        },
        {
          "output_type": "display_data",
          "data": {
            "text/plain": [
              "Shuffling /root/tensorflow_datasets/imdb_reviews/plain_text/1.0.0.incompleteUMRMCJ/imdb_reviews-train.tfrecord…"
            ],
            "application/vnd.jupyter.widget-view+json": {
              "version_major": 2,
              "version_minor": 0,
              "model_id": "c09082961b404651be91cfe9481f8760"
            }
          },
          "metadata": {}
        },
        {
          "output_type": "display_data",
          "data": {
            "text/plain": [
              "Generating test examples...:   0%|          | 0/25000 [00:00<?, ? examples/s]"
            ],
            "application/vnd.jupyter.widget-view+json": {
              "version_major": 2,
              "version_minor": 0,
              "model_id": "3dbb0eb81e0543949968f6df8210c5ba"
            }
          },
          "metadata": {}
        },
        {
          "output_type": "display_data",
          "data": {
            "text/plain": [
              "Shuffling /root/tensorflow_datasets/imdb_reviews/plain_text/1.0.0.incompleteUMRMCJ/imdb_reviews-test.tfrecord*…"
            ],
            "application/vnd.jupyter.widget-view+json": {
              "version_major": 2,
              "version_minor": 0,
              "model_id": "0bf680288aaa4e22a1ef1463b76e92e8"
            }
          },
          "metadata": {}
        },
        {
          "output_type": "display_data",
          "data": {
            "text/plain": [
              "Generating unsupervised examples...:   0%|          | 0/50000 [00:00<?, ? examples/s]"
            ],
            "application/vnd.jupyter.widget-view+json": {
              "version_major": 2,
              "version_minor": 0,
              "model_id": "b5da04df59ae4250a59276230ba18447"
            }
          },
          "metadata": {}
        },
        {
          "output_type": "display_data",
          "data": {
            "text/plain": [
              "Shuffling /root/tensorflow_datasets/imdb_reviews/plain_text/1.0.0.incompleteUMRMCJ/imdb_reviews-unsupervised.t…"
            ],
            "application/vnd.jupyter.widget-view+json": {
              "version_major": 2,
              "version_minor": 0,
              "model_id": "41dfe4a5fbf74fdabe99d269a2cde37a"
            }
          },
          "metadata": {}
        },
        {
          "output_type": "stream",
          "name": "stdout",
          "text": [
            "Dataset imdb_reviews downloaded and prepared to /root/tensorflow_datasets/imdb_reviews/plain_text/1.0.0. Subsequent calls will reuse this data.\n"
          ]
        }
      ],
      "source": [
        "train_data, validation_data, test_data = tfds.load(\n",
        "    name=\"imdb_reviews\",\n",
        "    split=('train[:80%]', 'train[20%:]', 'test'),\n",
        "    as_supervised=True)"
      ]
    },
    {
      "cell_type": "code",
      "execution_count": 3,
      "metadata": {
        "colab": {
          "base_uri": "https://localhost:8080/"
        },
        "id": "zK9OV9FOMDzJ",
        "outputId": "65882367-259f-4324-82eb-02ff36986d84"
      },
      "outputs": [
        {
          "output_type": "stream",
          "name": "stdout",
          "text": [
            "Mounted at /content/gdrive\n"
          ]
        }
      ],
      "source": [
        "# Mounting the drive\n",
        "from google.colab import drive\n",
        "drive.mount('/content/gdrive')"
      ]
    },
    {
      "cell_type": "code",
      "source": [
        "import shutil\n",
        "\n",
        "# Source directory\n",
        "source_dir = '/root/tensorflow_datasets/imdb_reviews/plain_text/1.0.0'\n",
        "\n",
        "# Destination directory in your Google Drive\n",
        "destination_dir = '/content/gdrive/MyDrive/Colab Notebooks/Machine learning Programming/Sequence_model/imdb_reviews_data'\n",
        "\n",
        "# Copy the data\n",
        "shutil.copytree(source_dir, destination_dir)"
      ],
      "metadata": {
        "colab": {
          "base_uri": "https://localhost:8080/",
          "height": 35
        },
        "id": "Fdf_KYrj7rix",
        "outputId": "938a4d9b-1965-4a0f-9f3b-455c7587d816"
      },
      "execution_count": 8,
      "outputs": [
        {
          "output_type": "execute_result",
          "data": {
            "text/plain": [
              "'/content/gdrive/MyDrive/Colab Notebooks/Machine learning Programming/Sequence_model/imdb_reviews_data'"
            ],
            "application/vnd.google.colaboratory.intrinsic+json": {
              "type": "string"
            }
          },
          "metadata": {},
          "execution_count": 8
        }
      ]
    },
    {
      "cell_type": "code",
      "source": [
        "import os\n",
        "\n",
        "# List the contents of the destination directory\n",
        "destination_contents = os.listdir(destination_dir)\n",
        "print(destination_contents)"
      ],
      "metadata": {
        "colab": {
          "base_uri": "https://localhost:8080/"
        },
        "id": "xKOHSquM9gGz",
        "outputId": "2180af35-976a-4e72-b609-928e41a55d37"
      },
      "execution_count": 9,
      "outputs": [
        {
          "output_type": "stream",
          "name": "stdout",
          "text": [
            "['imdb_reviews-train.tfrecord-00000-of-00001', 'imdb_reviews-unsupervised.tfrecord-00000-of-00001', 'label.labels.txt', 'dataset_info.json', 'imdb_reviews-test.tfrecord-00000-of-00001', 'features.json']\n"
          ]
        }
      ]
    },
    {
      "cell_type": "markdown",
      "metadata": {
        "id": "J6q7GekWl5Um"
      },
      "source": [
        "# N-gram model"
      ]
    },
    {
      "cell_type": "markdown",
      "metadata": {
        "id": "v1KVvEPQ3n0B"
      },
      "source": [
        "## Binary, Word_count, Tfidf"
      ]
    },
    {
      "cell_type": "code",
      "source": [
        "\n",
        "# Path to the TFRecord file\n",
        "path = '/content/gdrive/MyDrive/Colab Notebooks/Machine learning Programming/Sequence_model/imdb_reviews_data/imdb_reviews-train.tfrecord-00000-of-00001'\n",
        "\n",
        "reviews_train = []\n",
        "\n",
        "# Open the TFRecord file\n",
        "for record in tf.data.TFRecordDataset(path):\n",
        "    # Parse the record\n",
        "    example = tf.train.Example()\n",
        "    example.ParseFromString(record.numpy())\n",
        "\n",
        "    # Access the feature you need (e.g., 'text' in this case)\n",
        "    text = example.features.feature['text'].bytes_list.value[0].decode('utf-8')\n",
        "\n",
        "    reviews_train.append(text)\n",
        "\n",
        "# Print a few reviews to verify\n",
        "for review in reviews_train[:5]:\n",
        "    print(review)\n"
      ],
      "metadata": {
        "colab": {
          "base_uri": "https://localhost:8080/"
        },
        "id": "7tjGGHjlB_az",
        "outputId": "5ffccf59-2437-46b2-da5e-0796d0b05947"
      },
      "execution_count": 13,
      "outputs": [
        {
          "output_type": "stream",
          "name": "stdout",
          "text": [
            "This was an absolutely terrible movie. Don't be lured in by Christopher Walken or Michael Ironside. Both are great actors, but this must simply be their worst role in history. Even their great acting could not redeem this movie's ridiculous storyline. This movie is an early nineties US propaganda piece. The most pathetic scenes were those when the Columbian rebels were making their cases for revolutions. Maria Conchita Alonso appeared phony, and her pseudo-love affair with Walken was nothing but a pathetic emotional plug in a movie that was devoid of any real meaning. I am disappointed that there are movies like this, ruining actor's like Christopher Walken's good name. I could barely sit through it.\n",
            "I have been known to fall asleep during films, but this is usually due to a combination of things including, really tired, being warm and comfortable on the sette and having just eaten a lot. However on this occasion I fell asleep because the film was rubbish. The plot development was constant. Constantly slow and boring. Things seemed to happen, but with no explanation of what was causing them or why. I admit, I may have missed part of the film, but i watched the majority of it and everything just seemed to happen of its own accord without any real concern for anything else. I cant recommend this film at all.\n",
            "Mann photographs the Alberta Rocky Mountains in a superb fashion, and Jimmy Stewart and Walter Brennan give enjoyable performances as they always seem to do. <br /><br />But come on Hollywood - a Mountie telling the people of Dawson City, Yukon to elect themselves a marshal (yes a marshal!) and to enforce the law themselves, then gunfighters battling it out on the streets for control of the town? <br /><br />Nothing even remotely resembling that happened on the Canadian side of the border during the Klondike gold rush. Mr. Mann and company appear to have mistaken Dawson City for Deadwood, the Canadian North for the American Wild West.<br /><br />Canadian viewers be prepared for a Reefer Madness type of enjoyable howl with this ludicrous plot, or, to shake your head in disgust.\n",
            "This is the kind of film for a snowy Sunday afternoon when the rest of the world can go ahead with its own business as you descend into a big arm-chair and mellow for a couple of hours. Wonderful performances from Cher and Nicolas Cage (as always) gently row the plot along. There are no rapids to cross, no dangerous waters, just a warm and witty paddle through New York life at its best. A family film in every sense and one that deserves the praise it received.\n",
            "As others have mentioned, all the women that go nude in this film are mostly absolutely gorgeous. The plot very ably shows the hypocrisy of the female libido. When men are around they want to be pursued, but when no \"men\" are around, they become the pursuers of a 14 year old boy. And the boy becomes a man really fast (we should all be so lucky at this age!). He then gets up the courage to pursue his true love.\n"
          ]
        }
      ]
    },
    {
      "cell_type": "code",
      "source": [
        "import tensorflow as tf\n",
        "\n",
        "# Path to the TFRecord file for testing data\n",
        "path_test = '/content/gdrive/MyDrive/Colab Notebooks/Machine learning Programming/Sequence_model/imdb_reviews_data/imdb_reviews-test.tfrecord-00000-of-00001'\n",
        "\n",
        "reviews_test = []\n",
        "\n",
        "# Open the TFRecord file for testing data\n",
        "for record in tf.data.TFRecordDataset(path_test):\n",
        "    # Parse the record\n",
        "    example = tf.train.Example()\n",
        "    example.ParseFromString(record.numpy())\n",
        "\n",
        "    # Access the feature you need (e.g., 'text' in this case)\n",
        "    text = example.features.feature['text'].bytes_list.value[0].decode('utf-8')\n",
        "\n",
        "    reviews_test.append(text)\n",
        "\n",
        "# Print a few reviews to verify\n",
        "for review in reviews_test[:5]:\n",
        "    print(review)\n"
      ],
      "metadata": {
        "colab": {
          "base_uri": "https://localhost:8080/"
        },
        "id": "_ysrKryiDkAE",
        "outputId": "d3827cfa-4981-43ab-9f23-b96b2eba22ce"
      },
      "execution_count": 16,
      "outputs": [
        {
          "output_type": "stream",
          "name": "stdout",
          "text": [
            "There are films that make careers. For George Romero, it was NIGHT OF THE LIVING DEAD; for Kevin Smith, CLERKS; for Robert Rodriguez, EL MARIACHI. Add to that list Onur Tukel's absolutely amazing DING-A-LING-LESS. Flawless film-making, and as assured and as professional as any of the aforementioned movies. I haven't laughed this hard since I saw THE FULL MONTY. (And, even then, I don't think I laughed quite this hard... So to speak.) Tukel's talent is considerable: DING-A-LING-LESS is so chock full of double entendres that one would have to sit down with a copy of this script and do a line-by-line examination of it to fully appreciate the, uh, breadth and width of it. Every shot is beautifully composed (a clear sign of a sure-handed director), and the performances all around are solid (there's none of the over-the-top scenery chewing one might've expected from a film like this). DING-A-LING-LESS is a film whose time has come.\n",
            "A blackly comic tale of a down-trodden priest, Nazarin showcases the economy that Luis Bunuel was able to achieve in being able to tell a deeply humanist fable with a minimum of fuss. As an output from his Mexican era of film making, it was an invaluable talent to possess, with little money and extremely tight schedules. Nazarin, however, surpasses many of Bunuel's previous Mexican films in terms of the acting (Francisco Rabal is excellent), narrative and theme.<br /><br />The theme, interestingly, is something that was explored again in Viridiana, made three years later in Spain. It concerns the individual's struggle for humanity and altruism amongst a society that rejects any notion of virtue. Father Nazarin, however, is portrayed more sympathetically than Sister Viridiana. Whereas the latter seems to choose charity because she wishes to atone for her (perceived) sins, Nazarin's whole existence and reason for being seems to be to help others, whether they (or we) like it or not. The film's last scenes, in which he casts doubt on his behaviour and, in a split second, has to choose between the life he has been leading or the conventional life that is expected of a priest, are so emotional because they concern his moral integrity and we are never quite sure whether it remains intact or not.<br /><br />This is a remarkable film and I would urge anyone interested in classic cinema to seek it out. It is one of Bunuel's most moving films, and encapsulates many of his obsessions: frustrated desire, mad love, religious hypocrisy etc. In my view 'Nazarin' is second only to 'The Exterminating Angel', in terms of his Mexican movies, and is certainly near the top of the list of Bunuel's total filmic output.\n",
            "Scary Movie 1-4, Epic Movie, Date Movie, Meet the Spartans, Not another Teen Movie and Another Gay Movie. Making \"Superhero Movie\" the eleventh in a series that single handily ruined the parody genre. Now I'll admit it I have a soft spot for classics such as Airplane and The Naked Gun but you know you've milked a franchise so bad when you can see the gags a mile off. In fact the only thing that might really temp you into going to see this disaster is the incredibly funny but massive sell-out Leslie Neilson.<br /><br />You can tell he needs the money, wither that or he intends to go down with the ship like a good Capitan would. In no way is he bringing down this genre but hell he's not helping it. But if I feel sorry for anybody in this film its decent actor Drake Bell who is put through an immense amount of embarrassment. The people who are put through the largest amount of torture by far however is the audience forced to sit through 90 minutes of laughless bile no funnier than herpes.<br /><br />After spoofing disaster films in Airplane!, police shows in The Naked Gun, and Hollywood horrors in Scary Movie 3 and 4, producer David Zucker sets his satirical sights on the superhero genre with this anarchic comedy lampooning everything from Spider-Man to X-Men and Superman Returns.<br /><br />Shortly after being bitten by a genetically altered dragonfly, high-school outcast Rick Riker (Drake Bell) begins to experience a startling transformation. Now Rick's skin is as strong as steel, and he possesses the strength of ten men. Determined to use his newfound powers to fight crime, Rick creates a special costume and assumes the identity of The Dragonfly -- a fearless crime fighter dedicated to keeping the streets safe for law-abiding citizens.<br /><br />But every superhero needs a nemesis, and after Lou Landers (Christopher McDonald) is caught in the middle of an experiment gone horribly awry, he develops the power to leech the life force out of anyone he meets and becomes the villainous Hourglass. Intent on achieving immortality, the Hourglass attempts to gather as much life force as possible as the noble Dragonfly sets out to take down his archenemy and realize his destiny as a true hero. Craig Mazin writes and directs this low-flying spoof.<br /><br />featuring Tracy Morgan, Pamela Anderson, Leslie Nielsen, Marion Ross, Jeffrey Tambor, and Regina Hall.<br /><br />Hell Superhero Movie may earn some merit in the fact that it's a hell of a lot better than Meet the Spartans and Epic Movie. But with great responsibility comes one of the worst outings of 2008 to date. Laughless but a little less irritating than Meet the Spartans. And in the same sense much more forgettable than meet the Spartans. But maybe that's a good reason. There are still some of us trying to scrape away the stain that was Meet the Spartans from our memory.<br /><br />My final verdict? Avoid, unless you're one of thoses people who enjoy such car crash cinema. As bad as Date Movie and Scary Movie 2 but not quite as bad as Meet the Spartans or Epic Movie. Super Villain.\n",
            "Poor Shirley MacLaine tries hard to lend some gravitas to this mawkish, gag-inducing \"feel-good\" movie, but she's trampled by the run-away sentimentality of a film that's not the least bit grounded in reality.<br /><br />This was directed by Curtis Hanson? Did he have a lobotomy since we last heard from him? Hanson can do effective drama sprinkled with comedy, as evidenced by \"Wonder Boys.\" So I don't know what happened to him here. This is the kind of movie that doesn't want to accept that life is messy and fussy, and that neat, tidy endings (however implausible they might be) might make for a nice closing shot, but come across as utterly phony if the people watching the film have been through anything remotely like what the characters in the film go through.<br /><br />My wife and I made a game of calling out the plot points before they occurred -- e.g. \"the old man's going to teach her to read and then drop dead.\" Bingo! This is one of those movies where the characters give little speeches summarizing their emotional problems, making you wonder why they still have emotional problems if they're that aware of what's causing them. Toni Collette (a fine actress, by the way, and one of my favorites if not given a lot to work with here), gives a speech early on about why she buys so many shoes and never wears them, spelling out in flashing neon the film's awkward connecting motif. At that moment, I knew what I was in for, and the film was a downward spiral from there.<br /><br />Grade: C-\n",
            "As a former Erasmus student I enjoyed this film very much. It was so realistic and funny. It really picked up the spirit that exists among Erasmus students. I hope, many other students will follow this experience, too. However, I wonder if this movie is all that interesting to watch for people with no international experience. But at least one of my friends who has never gone on Erasmus also enjoyed it very much. I give it 9 out of 10.\n"
          ]
        }
      ]
    },
    {
      "cell_type": "code",
      "execution_count": 17,
      "metadata": {
        "id": "kEjgPTA3AJdj"
      },
      "outputs": [],
      "source": [
        "train_label = [1 if i < 12500 else 0 for i in range(25000)]\n",
        "test_label = [1 if i < 12500 else 0 for i in range(25000)]"
      ]
    },
    {
      "cell_type": "code",
      "execution_count": 18,
      "metadata": {
        "id": "0wahUQpiCkyN"
      },
      "outputs": [],
      "source": [
        "X_train, X_val, y_train, y_val = train_test_split(\n",
        "    reviews_train, train_label, train_size=0.8\n",
        ")"
      ]
    },
    {
      "cell_type": "code",
      "execution_count": 19,
      "metadata": {
        "id": "fkxWUKC012bW"
      },
      "outputs": [],
      "source": [
        "REPLACE_NO_SPACE = re.compile(\"[.;:!\\'?,\\\"()\\[\\]]\")\n",
        "REPLACE_WITH_SPACE = re.compile(\"(<br\\s*/><br\\s*/>)|(\\-)|(\\/)\")\n",
        "def preprocess_reviews(reviews):\n",
        "  reviews = [REPLACE_NO_SPACE.sub(\"\", line.lower()) for line in reviews]\n",
        "  reviews = [REPLACE_WITH_SPACE.sub(\" \", line) for line in reviews]\n",
        "  return reviews\n",
        "\n",
        "reviews_train_clean = preprocess_reviews(X_train)\n",
        "reviews_val_clean = preprocess_reviews(X_val)\n",
        "reviews_test_clean = preprocess_reviews(reviews_test)"
      ]
    },
    {
      "cell_type": "code",
      "execution_count": 20,
      "metadata": {
        "id": "Mm-khBYL1oT9"
      },
      "outputs": [],
      "source": [
        "def get_lemmatized_text(corpus):\n",
        "  lemmatizer = WordNetLemmatizer()\n",
        "  return [' '.join([lemmatizer.lemmatize(word) for word in review.split()]) for review in corpus]\n",
        "\n",
        "reviews_train_clean = get_lemmatized_text(reviews_train_clean)\n",
        "reviews_val_clean = get_lemmatized_text(reviews_val_clean)\n",
        "reviews_test_clean = get_lemmatized_text(reviews_test_clean)"
      ]
    },
    {
      "cell_type": "code",
      "execution_count": 21,
      "metadata": {
        "colab": {
          "base_uri": "https://localhost:8080/"
        },
        "id": "EYu1bgR26xpb",
        "outputId": "3b522798-8d12-4df8-d3da-075d144540f2"
      },
      "outputs": [
        {
          "metadata": {
            "tags": null
          },
          "name": "stderr",
          "output_type": "stream",
          "text": [
            "/usr/local/lib/python3.10/dist-packages/sklearn/linear_model/_logistic.py:458: ConvergenceWarning: lbfgs failed to converge (status=1):\n",
            "STOP: TOTAL NO. of ITERATIONS REACHED LIMIT.\n",
            "\n",
            "Increase the number of iterations (max_iter) or scale the data as shown in:\n",
            "    https://scikit-learn.org/stable/modules/preprocessing.html\n",
            "Please also refer to the documentation for alternative solver options:\n",
            "    https://scikit-learn.org/stable/modules/linear_model.html#logistic-regression\n",
            "  n_iter_i = _check_optimize_result(\n"
          ]
        },
        {
          "metadata": {
            "tags": null
          },
          "name": "stdout",
          "output_type": "stream",
          "text": [
            "Logistic-Binary val_accuracy: 0.504200, test_accuracy: 0.497760\n",
            "RF-Binary val_accuracy: 0.506000, test_accuracy: 0.496480\n",
            "Boosting-Binary val_accuracy: 0.495000, test_accuracy: 0.500360\n",
            "SVC-Binary val_accuracy: 0.500600, test_accuracy: 0.496800\n"
          ]
        },
        {
          "metadata": {
            "tags": null
          },
          "name": "stderr",
          "output_type": "stream",
          "text": [
            "/usr/local/lib/python3.10/dist-packages/sklearn/linear_model/_logistic.py:458: ConvergenceWarning: lbfgs failed to converge (status=1):\n",
            "STOP: TOTAL NO. of ITERATIONS REACHED LIMIT.\n",
            "\n",
            "Increase the number of iterations (max_iter) or scale the data as shown in:\n",
            "    https://scikit-learn.org/stable/modules/preprocessing.html\n",
            "Please also refer to the documentation for alternative solver options:\n",
            "    https://scikit-learn.org/stable/modules/linear_model.html#logistic-regression\n",
            "  n_iter_i = _check_optimize_result(\n"
          ]
        },
        {
          "output_type": "stream",
          "name": "stdout",
          "text": [
            "Logistic-Count val_accuracy: 0.507400, test_accuracy: 0.499160\n",
            "RF-Count val_accuracy: 0.500800, test_accuracy: 0.503280\n",
            "Boosting-Count val_accuracy: 0.498600, test_accuracy: 0.499560\n"
          ]
        },
        {
          "output_type": "stream",
          "name": "stderr",
          "text": [
            "/usr/local/lib/python3.10/dist-packages/sklearn/svm/_base.py:1244: ConvergenceWarning: Liblinear failed to converge, increase the number of iterations.\n",
            "  warnings.warn(\n"
          ]
        },
        {
          "output_type": "stream",
          "name": "stdout",
          "text": [
            "SVC-Count val_accuracy: 0.511800, test_accuracy: 0.499360\n",
            "Logistic-Tf-idf val_accuracy: 0.509000, test_accuracy: 0.500400\n",
            "RF-Tf-idf val_accuracy: 0.490000, test_accuracy: 0.503600\n",
            "Boosting-Tf-idf val_accuracy: 0.487200, test_accuracy: 0.495600\n",
            "SVC-Tf-idf val_accuracy: 0.511200, test_accuracy: 0.499400\n"
          ]
        }
      ],
      "source": [
        "models = []\n",
        "models.append(('Logistic', LogisticRegression(C=0.05)))\n",
        "models.append(('RF', RandomForestClassifier()))\n",
        "models.append(('Boosting', GradientBoostingClassifier(max_depth= 5)))\n",
        "models.append(('SVC', LinearSVC(C=0.05)))\n",
        "# models.append(('DNN', MLPClassifier(hidden_layer_sizes=(30,30,20,10,10), activation='logistic', early_stopping=True)))\n",
        "stop_words = ['in', 'of', 'at', 'a', 'the']\n",
        "preprocessing = []\n",
        "preprocessing.append(('Binary', CountVectorizer(binary=True, stop_words=stop_words)))\n",
        "preprocessing.append(('Count', CountVectorizer(binary=False, ngram_range=(1,3), stop_words=stop_words)))\n",
        "preprocessing.append(('Tf-idf', TfidfVectorizer(ngram_range=(1, 3), stop_words=stop_words)))\n",
        "# evaluate each model in turn\n",
        "val_accuracy = []\n",
        "test_accuracy = []\n",
        "names = []\n",
        "for preprocess_name, preprocess_method in preprocessing:\n",
        "  preprocess_method = preprocess_method.fit(reviews_train_clean)\n",
        "  X_train = preprocess_method.transform(reviews_train_clean)\n",
        "  X_val = preprocess_method.transform(reviews_val_clean)\n",
        "  X_test = preprocess_method.transform(reviews_test_clean)\n",
        "  for name, model in models:\n",
        "    model.fit(X_train, y_train)\n",
        "    val_label = model.predict(X_val)\n",
        "    val_accuracy.append(accuracy_score(val_label, y_val))\n",
        "    y_pred = model.predict(X_test)\n",
        "    test_accuracy.append(accuracy_score(test_label, y_pred))\n",
        "    names.append(name + '-' + preprocess_name)\n",
        "    print('%s val_accuracy: %f, test_accuracy: %f' % (name + '-' + preprocess_name, accuracy_score(val_label, y_val), accuracy_score(test_label, y_pred)))"
      ]
    },
    {
      "cell_type": "markdown",
      "metadata": {
        "id": "oh0IfHu4Ww3U"
      },
      "source": [
        "### Performance"
      ]
    },
    {
      "cell_type": "code",
      "execution_count": 22,
      "metadata": {
        "colab": {
          "base_uri": "https://localhost:8080/",
          "height": 512
        },
        "id": "DCgKFMbDi5hn",
        "outputId": "d7e4907a-267c-45b0-fcac-f016747cee95"
      },
      "outputs": [
        {
          "output_type": "display_data",
          "data": {
            "text/plain": [
              "<Figure size 2000x1000 with 1 Axes>"
            ],
            "image/png": "[encoded data removed]"
          },
          "metadata": {}
        }
      ],
      "source": [
        "x = np.arange(len(names))\n",
        "\n",
        "width = 0.3\n",
        "plt.figure(figsize = (20, 10))\n",
        "plt.bar(x - 0.17, val_accuracy, width, label='Validation')\n",
        "plt.bar(x + 0.17, test_accuracy, width, label='Test')\n",
        "plt.xticks(ticks=x, labels=names,\n",
        "           rotation=45)\n",
        "for index, value in enumerate(val_accuracy):\n",
        "    plt.text(index - 0.4, value+0.01, str(value)[0:4])\n",
        "for index, value in enumerate(test_accuracy):\n",
        "    plt.text(index + 0.04, value + 0.01, str(value)[0:4])\n",
        "plt.ylabel(f'Accuracy for different models')\n",
        "_ = plt.legend()"
      ]
    },
    {
      "cell_type": "markdown",
      "metadata": {
        "id": "Z4iQnPyWC4Sf"
      },
      "source": [
        "## Word Embedding"
      ]
    },
    {
      "cell_type": "markdown",
      "metadata": {
        "id": "IXRbyFckGcub"
      },
      "source": [
        "Use three embedding methods, NNLM 50, NNLM 128, NNLM 128 with normalization and universal encoder"
      ]
    },
    {
      "cell_type": "code",
      "execution_count": 24,
      "metadata": {
        "id": "QXomQXReVZZp"
      },
      "outputs": [],
      "source": [
        "class dense_embedding(tf.keras.Model):\n",
        "\n",
        "  def __init__(self, input):\n",
        "    super(dense_embedding, self).__init__()\n",
        "    self.hub_layer = hub.KerasLayer(input, input_shape=[],\n",
        "                           dtype=tf.string, trainable=True)\n",
        "    self.dense1 = tf.keras.layers.Dense(64, activation='relu')\n",
        "    self.dense2 = tf.keras.layers.Dense(32, activation='relu')\n",
        "    self.res = tf.keras.layers.Dense(1, activation='sigmoid')\n",
        "\n",
        "  def call(self, x):\n",
        "    x = self.hub_layer(x)\n",
        "    x = self.dense1(x)\n",
        "    x = self.dense2(x)\n",
        "    return self.res(x)\n",
        "\n",
        "embedding_50 = \"https://tfhub.dev/google/nnlm-en-dim50/2\"\n",
        "model = dense_embedding(embedding_50)"
      ]
    },
    {
      "cell_type": "code",
      "execution_count": 25,
      "metadata": {
        "id": "w6sj3u0ZBNxg"
      },
      "outputs": [],
      "source": [
        "MAX_EPOCHS = 30\n",
        "\n",
        "def compile_and_fit(model, patience=2):\n",
        "  early_stopping = tf.keras.callbacks.EarlyStopping(monitor='val_loss',\n",
        "                                                    patience=patience,\n",
        "                                                    mode='min')\n",
        "  lr_schedule = tf.keras.optimizers.schedules.ExponentialDecay(\n",
        "    initial_learning_rate=1e-3,\n",
        "    decay_steps=500,\n",
        "    decay_rate=0.9)\n",
        "  model.compile(optimizer='adam',\n",
        "              loss=tf.keras.losses.BinaryCrossentropy(from_logits=True),\n",
        "              metrics=['accuracy'])\n",
        "\n",
        "  history = model.fit(train_data.batch(512), epochs=MAX_EPOCHS,\n",
        "                      validation_data=validation_data.batch(512))\n",
        "                      # ,callbacks=[early_stopping])\n",
        "  return history"
      ]
    },
    {
      "cell_type": "code",
      "execution_count": 26,
      "metadata": {
        "colab": {
          "base_uri": "https://localhost:8080/"
        },
        "id": "5-lvW_PnGJmf",
        "outputId": "12d5f315-47f7-45b1-ba91-31d49c3d2723"
      },
      "outputs": [
        {
          "output_type": "stream",
          "name": "stdout",
          "text": [
            "Model: \"sequential\"\n",
            "_________________________________________________________________\n",
            " Layer (type)                Output Shape              Param #   \n",
            "=================================================================\n",
            " keras_layer_1 (KerasLayer)  (None, 50)                48190600  \n",
            "                                                                 \n",
            " dense_3 (Dense)             (None, 64)                3264      \n",
            "                                                                 \n",
            " dense_4 (Dense)             (None, 32)                2080      \n",
            "                                                                 \n",
            " dense_5 (Dense)             (None, 1)                 33        \n",
            "                                                                 \n",
            "=================================================================\n",
            "Total params: 48,195,977\n",
            "Trainable params: 48,195,977\n",
            "Non-trainable params: 0\n",
            "_________________________________________________________________\n"
          ]
        }
      ],
      "source": [
        "embedding_50 = \"https://tfhub.dev/google/nnlm-en-dim50/2\"\n",
        "hub_layer = hub.KerasLayer(embedding_50, input_shape=[],\n",
        "                           dtype=tf.string, trainable=True)\n",
        "\n",
        "\n",
        "model50 = tf.keras.Sequential()\n",
        "model50.add(hub_layer)\n",
        "model50.add(tf.keras.layers.Dense(64, activation='relu'))\n",
        "model50.add(tf.keras.layers.Dense(32, activation='relu'))\n",
        "model50.add(tf.keras.layers.Dense(1, activation='sigmoid'))\n",
        "\n",
        "model50.summary()"
      ]
    },
    {
      "cell_type": "code",
      "execution_count": 27,
      "metadata": {
        "colab": {
          "base_uri": "https://localhost:8080/"
        },
        "id": "qF1LdJwkBegJ",
        "outputId": "2f55011f-e84b-4801-fa9c-0a875aeee0c5"
      },
      "outputs": [
        {
          "output_type": "stream",
          "name": "stdout",
          "text": [
            "Epoch 1/30\n"
          ]
        },
        {
          "output_type": "stream",
          "name": "stderr",
          "text": [
            "/usr/local/lib/python3.10/dist-packages/keras/backend.py:5703: UserWarning: \"`binary_crossentropy` received `from_logits=True`, but the `output` argument was produced by a Sigmoid activation and thus does not represent logits. Was this intended?\n",
            "  output, from_logits = _get_logits(\n"
          ]
        },
        {
          "output_type": "stream",
          "name": "stdout",
          "text": [
            "40/40 [==============================] - 21s 372ms/step - loss: 0.6310 - accuracy: 0.6817 - val_loss: 0.4992 - val_accuracy: 0.7982\n",
            "Epoch 2/30\n",
            "40/40 [==============================] - 5s 119ms/step - loss: 0.3794 - accuracy: 0.8453 - val_loss: 0.2706 - val_accuracy: 0.8935\n",
            "Epoch 3/30\n",
            "40/40 [==============================] - 2s 59ms/step - loss: 0.2188 - accuracy: 0.9153 - val_loss: 0.1843 - val_accuracy: 0.9330\n",
            "Epoch 4/30\n",
            "40/40 [==============================] - 3s 69ms/step - loss: 0.1299 - accuracy: 0.9568 - val_loss: 0.1399 - val_accuracy: 0.9535\n",
            "Epoch 5/30\n",
            "40/40 [==============================] - 3s 67ms/step - loss: 0.0719 - accuracy: 0.9804 - val_loss: 0.1282 - val_accuracy: 0.9589\n",
            "Epoch 6/30\n",
            "40/40 [==============================] - 2s 59ms/step - loss: 0.0405 - accuracy: 0.9913 - val_loss: 0.1355 - val_accuracy: 0.9609\n",
            "Epoch 7/30\n",
            "40/40 [==============================] - 2s 60ms/step - loss: 0.0445 - accuracy: 0.9852 - val_loss: 0.1467 - val_accuracy: 0.9596\n",
            "Epoch 8/30\n",
            "40/40 [==============================] - 4s 95ms/step - loss: 0.0316 - accuracy: 0.9888 - val_loss: 0.1392 - val_accuracy: 0.9632\n",
            "Epoch 9/30\n",
            "40/40 [==============================] - 5s 119ms/step - loss: 0.0092 - accuracy: 0.9991 - val_loss: 0.1252 - val_accuracy: 0.9653\n",
            "Epoch 10/30\n",
            "40/40 [==============================] - 2s 58ms/step - loss: 0.0052 - accuracy: 0.9998 - val_loss: 0.1309 - val_accuracy: 0.9650\n",
            "Epoch 11/30\n",
            "40/40 [==============================] - 2s 58ms/step - loss: 0.0038 - accuracy: 0.9998 - val_loss: 0.1350 - val_accuracy: 0.9649\n",
            "Epoch 12/30\n",
            "40/40 [==============================] - 2s 55ms/step - loss: 0.0029 - accuracy: 0.9999 - val_loss: 0.1384 - val_accuracy: 0.9647\n",
            "Epoch 13/30\n",
            "40/40 [==============================] - 2s 58ms/step - loss: 0.0021 - accuracy: 0.9999 - val_loss: 0.1424 - val_accuracy: 0.9649\n",
            "Epoch 14/30\n",
            "40/40 [==============================] - 4s 113ms/step - loss: 0.0014 - accuracy: 0.9999 - val_loss: 0.1466 - val_accuracy: 0.9647\n",
            "Epoch 15/30\n",
            "40/40 [==============================] - 4s 91ms/step - loss: 0.0011 - accuracy: 1.0000 - val_loss: 0.1509 - val_accuracy: 0.9651\n",
            "Epoch 16/30\n",
            "40/40 [==============================] - 4s 109ms/step - loss: 9.1745e-04 - accuracy: 1.0000 - val_loss: 0.1552 - val_accuracy: 0.9646\n",
            "Epoch 17/30\n",
            "40/40 [==============================] - 4s 98ms/step - loss: 7.5908e-04 - accuracy: 1.0000 - val_loss: 0.1598 - val_accuracy: 0.9652\n",
            "Epoch 18/30\n",
            "40/40 [==============================] - 3s 71ms/step - loss: 6.3896e-04 - accuracy: 1.0000 - val_loss: 0.1644 - val_accuracy: 0.9652\n",
            "Epoch 19/30\n",
            "40/40 [==============================] - 2s 58ms/step - loss: 5.4737e-04 - accuracy: 1.0000 - val_loss: 0.1689 - val_accuracy: 0.9653\n",
            "Epoch 20/30\n",
            "40/40 [==============================] - 2s 62ms/step - loss: 4.7478e-04 - accuracy: 1.0000 - val_loss: 0.1729 - val_accuracy: 0.9650\n",
            "Epoch 21/30\n",
            "40/40 [==============================] - 3s 75ms/step - loss: 4.1280e-04 - accuracy: 1.0000 - val_loss: 0.1761 - val_accuracy: 0.9651\n",
            "Epoch 22/30\n",
            "40/40 [==============================] - 2s 57ms/step - loss: 3.5586e-04 - accuracy: 1.0000 - val_loss: 0.1787 - val_accuracy: 0.9648\n",
            "Epoch 23/30\n",
            "40/40 [==============================] - 3s 68ms/step - loss: 3.0132e-04 - accuracy: 1.0000 - val_loss: 0.1809 - val_accuracy: 0.9647\n",
            "Epoch 24/30\n",
            "40/40 [==============================] - 3s 67ms/step - loss: 2.5021e-04 - accuracy: 1.0000 - val_loss: 0.1831 - val_accuracy: 0.9650\n",
            "Epoch 25/30\n",
            "40/40 [==============================] - 4s 89ms/step - loss: 2.0680e-04 - accuracy: 1.0000 - val_loss: 0.1854 - val_accuracy: 0.9650\n",
            "Epoch 26/30\n",
            "40/40 [==============================] - 2s 60ms/step - loss: 1.7418e-04 - accuracy: 1.0000 - val_loss: 0.1878 - val_accuracy: 0.9650\n",
            "Epoch 27/30\n",
            "40/40 [==============================] - 2s 62ms/step - loss: 1.5089e-04 - accuracy: 1.0000 - val_loss: 0.1900 - val_accuracy: 0.9649\n",
            "Epoch 28/30\n",
            "40/40 [==============================] - 2s 57ms/step - loss: 1.3341e-04 - accuracy: 1.0000 - val_loss: 0.1922 - val_accuracy: 0.9650\n",
            "Epoch 29/30\n",
            "40/40 [==============================] - 2s 59ms/step - loss: 1.1938e-04 - accuracy: 1.0000 - val_loss: 0.1942 - val_accuracy: 0.9650\n",
            "Epoch 30/30\n",
            "40/40 [==============================] - 4s 95ms/step - loss: 1.0766e-04 - accuracy: 1.0000 - val_loss: 0.1962 - val_accuracy: 0.9649\n",
            "40/40 [==============================] - 1s 22ms/step - loss: 0.1962 - accuracy: 0.9649\n",
            "49/49 [==============================] - 2s 37ms/step - loss: 0.9157 - accuracy: 0.8447\n"
          ]
        }
      ],
      "source": [
        "history = compile_and_fit(model50)\n",
        "\n",
        "performance = {}\n",
        "val_performance = {}\n",
        "val_performance['nlnm 50'] = model50.evaluate(validation_data.batch(512))\n",
        "performance['nlnm 50'] = model50.evaluate(test_data.batch(512))"
      ]
    },
    {
      "cell_type": "code",
      "execution_count": 28,
      "metadata": {
        "colab": {
          "base_uri": "https://localhost:8080/"
        },
        "id": "g43-_guVFT3q",
        "outputId": "a55434ca-ae51-4ffe-bd51-34426d1ed06c"
      },
      "outputs": [
        {
          "output_type": "stream",
          "name": "stdout",
          "text": [
            "Model: \"sequential_1\"\n",
            "_________________________________________________________________\n",
            " Layer (type)                Output Shape              Param #   \n",
            "=================================================================\n",
            " keras_layer_2 (KerasLayer)  (None, 128)               124642688 \n",
            "                                                                 \n",
            " dense_6 (Dense)             (None, 64)                8256      \n",
            "                                                                 \n",
            " dense_7 (Dense)             (None, 32)                2080      \n",
            "                                                                 \n",
            " dense_8 (Dense)             (None, 1)                 33        \n",
            "                                                                 \n",
            "=================================================================\n",
            "Total params: 124,653,057\n",
            "Trainable params: 124,653,057\n",
            "Non-trainable params: 0\n",
            "_________________________________________________________________\n"
          ]
        }
      ],
      "source": [
        "embedding_50 = \"https://tfhub.dev/google/nnlm-en-dim128/2\"\n",
        "hub_layer = hub.KerasLayer(embedding_50, input_shape=[],\n",
        "                           dtype=tf.string, trainable=True)\n",
        "\n",
        "\n",
        "model128 = tf.keras.Sequential()\n",
        "model128.add(hub_layer)\n",
        "model128.add(tf.keras.layers.Dense(64, activation='relu'))\n",
        "model128.add(tf.keras.layers.Dense(32, activation='relu'))\n",
        "model128.add(tf.keras.layers.Dense(1, activation='sigmoid'))\n",
        "\n",
        "model128.summary()"
      ]
    },
    {
      "cell_type": "code",
      "execution_count": 29,
      "metadata": {
        "colab": {
          "base_uri": "https://localhost:8080/"
        },
        "id": "d1Tp7K2wFrL_",
        "outputId": "0f2ebd96-527d-4940-c467-5cb73111ebd6"
      },
      "outputs": [
        {
          "output_type": "stream",
          "name": "stdout",
          "text": [
            "Epoch 1/30\n",
            "40/40 [==============================] - 14s 309ms/step - loss: 0.5367 - accuracy: 0.7541 - val_loss: 0.3347 - val_accuracy: 0.8705\n",
            "Epoch 2/30\n",
            "40/40 [==============================] - 3s 87ms/step - loss: 0.2578 - accuracy: 0.8982 - val_loss: 0.1848 - val_accuracy: 0.9351\n",
            "Epoch 3/30\n",
            "40/40 [==============================] - 3s 76ms/step - loss: 0.1319 - accuracy: 0.9564 - val_loss: 0.1269 - val_accuracy: 0.9592\n",
            "Epoch 4/30\n",
            "40/40 [==============================] - 4s 98ms/step - loss: 0.0684 - accuracy: 0.9809 - val_loss: 0.1159 - val_accuracy: 0.9640\n",
            "Epoch 5/30\n",
            "40/40 [==============================] - 3s 77ms/step - loss: 0.0298 - accuracy: 0.9941 - val_loss: 0.1226 - val_accuracy: 0.9650\n",
            "Epoch 6/30\n",
            "40/40 [==============================] - 3s 78ms/step - loss: 0.0139 - accuracy: 0.9983 - val_loss: 0.1264 - val_accuracy: 0.9656\n",
            "Epoch 7/30\n",
            "40/40 [==============================] - 5s 129ms/step - loss: 0.0071 - accuracy: 0.9995 - val_loss: 0.1243 - val_accuracy: 0.9675\n",
            "Epoch 8/30\n",
            "40/40 [==============================] - 3s 87ms/step - loss: 0.0035 - accuracy: 0.9998 - val_loss: 0.1306 - val_accuracy: 0.9672\n",
            "Epoch 9/30\n",
            "40/40 [==============================] - 3s 75ms/step - loss: 0.0024 - accuracy: 0.9998 - val_loss: 0.1392 - val_accuracy: 0.9676\n",
            "Epoch 10/30\n",
            "40/40 [==============================] - 5s 130ms/step - loss: 0.0015 - accuracy: 0.9999 - val_loss: 0.1428 - val_accuracy: 0.9675\n",
            "Epoch 11/30\n",
            "40/40 [==============================] - 3s 77ms/step - loss: 0.0010 - accuracy: 1.0000 - val_loss: 0.1460 - val_accuracy: 0.9668\n",
            "Epoch 12/30\n",
            "40/40 [==============================] - 3s 75ms/step - loss: 8.0115e-04 - accuracy: 1.0000 - val_loss: 0.1498 - val_accuracy: 0.9671\n",
            "Epoch 13/30\n",
            "40/40 [==============================] - 3s 88ms/step - loss: 6.6010e-04 - accuracy: 1.0000 - val_loss: 0.1538 - val_accuracy: 0.9671\n",
            "Epoch 14/30\n",
            "40/40 [==============================] - 4s 103ms/step - loss: 5.5404e-04 - accuracy: 1.0000 - val_loss: 0.1581 - val_accuracy: 0.9670\n",
            "Epoch 15/30\n",
            "40/40 [==============================] - 3s 76ms/step - loss: 4.6835e-04 - accuracy: 1.0000 - val_loss: 0.1622 - val_accuracy: 0.9669\n",
            "Epoch 16/30\n",
            "40/40 [==============================] - 3s 76ms/step - loss: 4.1066e-04 - accuracy: 1.0000 - val_loss: 0.1664 - val_accuracy: 0.9671\n",
            "Epoch 17/30\n",
            "40/40 [==============================] - 4s 106ms/step - loss: 3.5717e-04 - accuracy: 1.0000 - val_loss: 0.1700 - val_accuracy: 0.9672\n",
            "Epoch 18/30\n",
            "40/40 [==============================] - 3s 76ms/step - loss: 3.1489e-04 - accuracy: 1.0000 - val_loss: 0.1731 - val_accuracy: 0.9672\n",
            "Epoch 19/30\n",
            "40/40 [==============================] - 3s 75ms/step - loss: 2.7636e-04 - accuracy: 1.0000 - val_loss: 0.1755 - val_accuracy: 0.9672\n",
            "Epoch 20/30\n",
            "40/40 [==============================] - 5s 121ms/step - loss: 2.4081e-04 - accuracy: 1.0000 - val_loss: 0.1774 - val_accuracy: 0.9671\n",
            "Epoch 21/30\n",
            "40/40 [==============================] - 3s 80ms/step - loss: 2.0794e-04 - accuracy: 1.0000 - val_loss: 0.1790 - val_accuracy: 0.9668\n",
            "Epoch 22/30\n",
            "40/40 [==============================] - 3s 76ms/step - loss: 1.7815e-04 - accuracy: 1.0000 - val_loss: 0.1808 - val_accuracy: 0.9666\n",
            "Epoch 23/30\n",
            "40/40 [==============================] - 5s 120ms/step - loss: 1.5225e-04 - accuracy: 1.0000 - val_loss: 0.1827 - val_accuracy: 0.9665\n",
            "Epoch 24/30\n",
            "40/40 [==============================] - 4s 102ms/step - loss: 1.3103e-04 - accuracy: 1.0000 - val_loss: 0.1847 - val_accuracy: 0.9664\n",
            "Epoch 25/30\n",
            "40/40 [==============================] - 3s 85ms/step - loss: 1.1433e-04 - accuracy: 1.0000 - val_loss: 0.1867 - val_accuracy: 0.9663\n",
            "Epoch 26/30\n",
            "40/40 [==============================] - 3s 75ms/step - loss: 1.0126e-04 - accuracy: 1.0000 - val_loss: 0.1886 - val_accuracy: 0.9664\n",
            "Epoch 27/30\n",
            "40/40 [==============================] - 4s 108ms/step - loss: 9.0797e-05 - accuracy: 1.0000 - val_loss: 0.1904 - val_accuracy: 0.9664\n",
            "Epoch 28/30\n",
            "40/40 [==============================] - 3s 87ms/step - loss: 8.2114e-05 - accuracy: 1.0000 - val_loss: 0.1921 - val_accuracy: 0.9665\n",
            "Epoch 29/30\n",
            "40/40 [==============================] - 3s 75ms/step - loss: 7.4750e-05 - accuracy: 1.0000 - val_loss: 0.1938 - val_accuracy: 0.9664\n",
            "Epoch 30/30\n",
            "40/40 [==============================] - 3s 74ms/step - loss: 6.8381e-05 - accuracy: 1.0000 - val_loss: 0.1955 - val_accuracy: 0.9665\n",
            "40/40 [==============================] - 1s 22ms/step - loss: 0.1955 - accuracy: 0.9665\n",
            "49/49 [==============================] - 1s 23ms/step - loss: 0.8537 - accuracy: 0.8498\n"
          ]
        }
      ],
      "source": [
        "history = compile_and_fit(model128)\n",
        "\n",
        "val_performance['nlnm 128'] = model128.evaluate(validation_data.batch(512))\n",
        "performance['nlnm 128'] = model128.evaluate(test_data.batch(512))"
      ]
    },
    {
      "cell_type": "code",
      "execution_count": 30,
      "metadata": {
        "colab": {
          "base_uri": "https://localhost:8080/"
        },
        "id": "j7_oufdtFy4z",
        "outputId": "5eb5b3ca-e0dc-4cb8-8d0b-b32f3e976999"
      },
      "outputs": [
        {
          "output_type": "stream",
          "name": "stdout",
          "text": [
            "Model: \"sequential_2\"\n",
            "_________________________________________________________________\n",
            " Layer (type)                Output Shape              Param #   \n",
            "=================================================================\n",
            " keras_layer_3 (KerasLayer)  (None, 128)               124642688 \n",
            "                                                                 \n",
            " dense_9 (Dense)             (None, 64)                8256      \n",
            "                                                                 \n",
            " dense_10 (Dense)            (None, 32)                2080      \n",
            "                                                                 \n",
            " dense_11 (Dense)            (None, 1)                 33        \n",
            "                                                                 \n",
            "=================================================================\n",
            "Total params: 124,653,057\n",
            "Trainable params: 124,653,057\n",
            "Non-trainable params: 0\n",
            "_________________________________________________________________\n"
          ]
        }
      ],
      "source": [
        "embedding_50 = \"https://tfhub.dev/google/nnlm-en-dim128-with-normalization/2\"\n",
        "hub_layer = hub.KerasLayer(embedding_50, input_shape=[],\n",
        "                           dtype=tf.string, trainable=True)\n",
        "\n",
        "\n",
        "model128_norm = tf.keras.Sequential()\n",
        "model128_norm.add(hub_layer)\n",
        "model128_norm.add(tf.keras.layers.Dense(64, activation='relu'))\n",
        "model128_norm.add(tf.keras.layers.Dense(32, activation='relu'))\n",
        "model128_norm.add(tf.keras.layers.Dense(1, activation='sigmoid'))\n",
        "\n",
        "model128_norm.summary()"
      ]
    },
    {
      "cell_type": "code",
      "execution_count": 31,
      "metadata": {
        "colab": {
          "base_uri": "https://localhost:8080/"
        },
        "id": "25sYVK76Ggl2",
        "outputId": "38cd93dc-48f0-4e2d-96fe-e91d17897b4b"
      },
      "outputs": [
        {
          "output_type": "stream",
          "name": "stdout",
          "text": [
            "Epoch 1/30\n",
            "40/40 [==============================] - 15s 330ms/step - loss: 0.5358 - accuracy: 0.7496 - val_loss: 0.3112 - val_accuracy: 0.8839\n",
            "Epoch 2/30\n",
            "40/40 [==============================] - 4s 91ms/step - loss: 0.2378 - accuracy: 0.9075 - val_loss: 0.1647 - val_accuracy: 0.9416\n",
            "Epoch 3/30\n",
            "40/40 [==============================] - 5s 120ms/step - loss: 0.1249 - accuracy: 0.9565 - val_loss: 0.1154 - val_accuracy: 0.9608\n",
            "Epoch 4/30\n",
            "40/40 [==============================] - 4s 90ms/step - loss: 0.0684 - accuracy: 0.9791 - val_loss: 0.1003 - val_accuracy: 0.9678\n",
            "Epoch 5/30\n",
            "40/40 [==============================] - 4s 92ms/step - loss: 0.0396 - accuracy: 0.9899 - val_loss: 0.0971 - val_accuracy: 0.9700\n",
            "Epoch 6/30\n",
            "40/40 [==============================] - 5s 127ms/step - loss: 0.0220 - accuracy: 0.9952 - val_loss: 0.0921 - val_accuracy: 0.9723\n",
            "Epoch 7/30\n",
            "40/40 [==============================] - 5s 118ms/step - loss: 0.0077 - accuracy: 0.9992 - val_loss: 0.0991 - val_accuracy: 0.9711\n",
            "Epoch 8/30\n",
            "40/40 [==============================] - 4s 95ms/step - loss: 0.0041 - accuracy: 0.9998 - val_loss: 0.1006 - val_accuracy: 0.9721\n",
            "Epoch 9/30\n",
            "40/40 [==============================] - 5s 125ms/step - loss: 0.0025 - accuracy: 0.9999 - val_loss: 0.1024 - val_accuracy: 0.9725\n",
            "Epoch 10/30\n",
            "40/40 [==============================] - 4s 92ms/step - loss: 0.0016 - accuracy: 0.9999 - val_loss: 0.1069 - val_accuracy: 0.9723\n",
            "Epoch 11/30\n",
            "40/40 [==============================] - 4s 92ms/step - loss: 0.0011 - accuracy: 1.0000 - val_loss: 0.1109 - val_accuracy: 0.9725\n",
            "Epoch 12/30\n",
            "40/40 [==============================] - 5s 127ms/step - loss: 7.5675e-04 - accuracy: 1.0000 - val_loss: 0.1154 - val_accuracy: 0.9724\n",
            "Epoch 13/30\n",
            "40/40 [==============================] - 4s 94ms/step - loss: 5.5330e-04 - accuracy: 1.0000 - val_loss: 0.1196 - val_accuracy: 0.9723\n",
            "Epoch 14/30\n",
            "40/40 [==============================] - 4s 94ms/step - loss: 4.1879e-04 - accuracy: 1.0000 - val_loss: 0.1235 - val_accuracy: 0.9723\n",
            "Epoch 15/30\n",
            "40/40 [==============================] - 5s 126ms/step - loss: 3.2748e-04 - accuracy: 1.0000 - val_loss: 0.1273 - val_accuracy: 0.9723\n",
            "Epoch 16/30\n",
            "40/40 [==============================] - 4s 92ms/step - loss: 2.6270e-04 - accuracy: 1.0000 - val_loss: 0.1312 - val_accuracy: 0.9729\n",
            "Epoch 17/30\n",
            "40/40 [==============================] - 5s 135ms/step - loss: 2.1440e-04 - accuracy: 1.0000 - val_loss: 0.1354 - val_accuracy: 0.9730\n",
            "Epoch 18/30\n",
            "40/40 [==============================] - 4s 96ms/step - loss: 1.7819e-04 - accuracy: 1.0000 - val_loss: 0.1395 - val_accuracy: 0.9731\n",
            "Epoch 19/30\n",
            "40/40 [==============================] - 5s 129ms/step - loss: 1.5012e-04 - accuracy: 1.0000 - val_loss: 0.1432 - val_accuracy: 0.9730\n",
            "Epoch 20/30\n",
            "40/40 [==============================] - 4s 100ms/step - loss: 1.2644e-04 - accuracy: 1.0000 - val_loss: 0.1462 - val_accuracy: 0.9729\n",
            "Epoch 21/30\n",
            "40/40 [==============================] - 4s 93ms/step - loss: 1.0537e-04 - accuracy: 1.0000 - val_loss: 0.1483 - val_accuracy: 0.9729\n",
            "Epoch 22/30\n",
            "40/40 [==============================] - 4s 89ms/step - loss: 8.6382e-05 - accuracy: 1.0000 - val_loss: 0.1501 - val_accuracy: 0.9729\n",
            "Epoch 23/30\n",
            "40/40 [==============================] - 4s 98ms/step - loss: 7.0205e-05 - accuracy: 1.0000 - val_loss: 0.1520 - val_accuracy: 0.9727\n",
            "Epoch 24/30\n",
            "40/40 [==============================] - 4s 92ms/step - loss: 5.7879e-05 - accuracy: 1.0000 - val_loss: 0.1540 - val_accuracy: 0.9723\n",
            "Epoch 25/30\n",
            "40/40 [==============================] - 5s 115ms/step - loss: 4.9098e-05 - accuracy: 1.0000 - val_loss: 0.1559 - val_accuracy: 0.9722\n",
            "Epoch 26/30\n",
            "40/40 [==============================] - 4s 96ms/step - loss: 4.2633e-05 - accuracy: 1.0000 - val_loss: 0.1577 - val_accuracy: 0.9721\n",
            "Epoch 27/30\n",
            "40/40 [==============================] - 4s 91ms/step - loss: 3.7560e-05 - accuracy: 1.0000 - val_loss: 0.1595 - val_accuracy: 0.9719\n",
            "Epoch 28/30\n",
            "40/40 [==============================] - 6s 148ms/step - loss: 3.3402e-05 - accuracy: 1.0000 - val_loss: 0.1612 - val_accuracy: 0.9719\n",
            "Epoch 29/30\n",
            "40/40 [==============================] - 5s 120ms/step - loss: 2.9920e-05 - accuracy: 1.0000 - val_loss: 0.1628 - val_accuracy: 0.9718\n",
            "Epoch 30/30\n",
            "40/40 [==============================] - 6s 159ms/step - loss: 2.6964e-05 - accuracy: 1.0000 - val_loss: 0.1643 - val_accuracy: 0.9718\n",
            "40/40 [==============================] - 1s 31ms/step - loss: 0.1643 - accuracy: 0.9718\n",
            "49/49 [==============================] - 2s 31ms/step - loss: 0.8407 - accuracy: 0.8653\n"
          ]
        }
      ],
      "source": [
        "history = compile_and_fit(model128_norm)\n",
        "\n",
        "val_performance['nlnm 128_norm'] = model128_norm.evaluate(validation_data.batch(512))\n",
        "performance['nlnm 128_norm'] = model128_norm.evaluate(test_data.batch(512))"
      ]
    },
    {
      "cell_type": "markdown",
      "metadata": {
        "id": "IZAvsQnkHnHT"
      },
      "source": [
        "### Comparison"
      ]
    },
    {
      "cell_type": "markdown",
      "metadata": {
        "id": "m58pJ7xNY5e4"
      },
      "source": [
        "Make the embedding layers trainable improve the performance."
      ]
    },
    {
      "cell_type": "code",
      "execution_count": 34,
      "metadata": {
        "colab": {
          "base_uri": "https://localhost:8080/",
          "height": 923
        },
        "id": "aOeDImhTHzNd",
        "outputId": "542fc661-2fb8-42a8-b46e-1edd09a6be4a"
      },
      "outputs": [
        {
          "output_type": "display_data",
          "data": {
            "text/plain": [
              "<Figure size 2000x1000 with 1 Axes>"
            ],
            "image/png": "[encoded data removed]"
          },
          "metadata": {}
        }
      ],
      "source": [
        "x = np.arange(len(performance))\n",
        "width = 0.3\n",
        "\n",
        "metric_name = 'accuracy'\n",
        "metric_index = model512.metrics_names.index('accuracy')\n",
        "val_mae = [v[metric_index] for v in val_performance.values()]\n",
        "test_mae = [v[metric_index] for v in performance.values()]\n",
        "\n",
        "plt.figure(figsize = (20, 10))\n",
        "plt.bar(x - 0.17, val_mae, width, label='Validation')\n",
        "plt.bar(x + 0.17, test_mae, width, label='Test')\n",
        "plt.xticks(ticks=x, labels=performance.keys(),\n",
        "           rotation=45)\n",
        "for index, value in enumerate(val_mae):\n",
        "    plt.text(index - 0.4, value+0.01, str(value)[0:4])\n",
        "for index, value in enumerate(test_mae):\n",
        "    plt.text(index + 0.04, value + 0.01, str(value)[0:4])\n",
        "plt.ylabel('Accuracy (average over all outputs)')\n",
        "\n",
        "_ = plt.legend()"
      ]
    },
    {
      "cell_type": "markdown",
      "source": [
        "### Contribution code\n",
        "\n",
        "\n",
        "##### The word embeddings outperfmored traditional machine learnings methods. However , Adjusting the number of epochs is an important aspect of training a neural network. The number of epochs determines how many times your model will iterate over the entire training dataset during the training process. Deciding the appropriate number of epochs is crucial to prevent both underfitting (too few epochs) and overfitting (too many epochs). During the training, we observed a model congergence after 20 epochs. We therefore suggested to repeat the training using for a number of epochs equal to 20 and see the impact"
      ],
      "metadata": {
        "id": "LFs6RF_2AKJM"
      }
    },
    {
      "cell_type": "markdown",
      "source": [
        "### Results"
      ],
      "metadata": {
        "id": "VBu3fdT-Ks2n"
      }
    },
    {
      "cell_type": "code",
      "source": [
        "MAX_EPOCHS = 20\n",
        "\n",
        "def compile_and_fit(model, patience=2):\n",
        "  early_stopping = tf.keras.callbacks.EarlyStopping(monitor='val_loss',\n",
        "                                                    patience=patience,\n",
        "                                                    mode='min')\n",
        "  lr_schedule = tf.keras.optimizers.schedules.ExponentialDecay(\n",
        "    initial_learning_rate=1e-3,\n",
        "    decay_steps=500,\n",
        "    decay_rate=0.9)\n",
        "  model.compile(optimizer='adam',\n",
        "              loss=tf.keras.losses.BinaryCrossentropy(from_logits=True),\n",
        "              metrics=['accuracy'])\n",
        "\n",
        "  history = model.fit(train_data.batch(512), epochs=MAX_EPOCHS,\n",
        "                      validation_data=validation_data.batch(512))\n",
        "                      # ,callbacks=[early_stopping])\n",
        "  return history"
      ],
      "metadata": {
        "id": "zVhUShp_F0Sf"
      },
      "execution_count": 39,
      "outputs": []
    },
    {
      "cell_type": "code",
      "source": [
        "embedding_50 = \"https://tfhub.dev/google/nnlm-en-dim50/2\"\n",
        "hub_layer = hub.KerasLayer(embedding_50, input_shape=[],\n",
        "                           dtype=tf.string, trainable=True)\n",
        "\n",
        "\n",
        "model50 = tf.keras.Sequential()\n",
        "model50.add(hub_layer)\n",
        "model50.add(tf.keras.layers.Dense(64, activation='relu'))\n",
        "model50.add(tf.keras.layers.Dense(32, activation='relu'))\n",
        "model50.add(tf.keras.layers.Dense(1, activation='sigmoid'))\n",
        "\n",
        "model50.summary()"
      ],
      "metadata": {
        "colab": {
          "base_uri": "https://localhost:8080/"
        },
        "id": "KiQV17wNGRat",
        "outputId": "f77a1e77-e96a-4599-869d-e00429d6ce66"
      },
      "execution_count": 40,
      "outputs": [
        {
          "output_type": "stream",
          "name": "stdout",
          "text": [
            "Model: \"sequential_4\"\n",
            "_________________________________________________________________\n",
            " Layer (type)                Output Shape              Param #   \n",
            "=================================================================\n",
            " keras_layer_5 (KerasLayer)  (None, 50)                48190600  \n",
            "                                                                 \n",
            " dense_15 (Dense)            (None, 64)                3264      \n",
            "                                                                 \n",
            " dense_16 (Dense)            (None, 32)                2080      \n",
            "                                                                 \n",
            " dense_17 (Dense)            (None, 1)                 33        \n",
            "                                                                 \n",
            "=================================================================\n",
            "Total params: 48,195,977\n",
            "Trainable params: 48,195,977\n",
            "Non-trainable params: 0\n",
            "_________________________________________________________________\n"
          ]
        }
      ]
    },
    {
      "cell_type": "code",
      "source": [
        "history = compile_and_fit(model50)\n",
        "\n",
        "performance = {}\n",
        "val_performance = {}\n",
        "val_performance['nlnm 50'] = model50.evaluate(validation_data.batch(512))\n",
        "performance['nlnm 50'] = model50.evaluate(test_data.batch(512))"
      ],
      "metadata": {
        "colab": {
          "base_uri": "https://localhost:8080/"
        },
        "id": "x13hWyFVGZxI",
        "outputId": "3654b2a3-9b8d-4420-ca8a-35f8c83a69c7"
      },
      "execution_count": 41,
      "outputs": [
        {
          "output_type": "stream",
          "name": "stdout",
          "text": [
            "Epoch 1/20\n",
            "40/40 [==============================] - 13s 300ms/step - loss: 0.6076 - accuracy: 0.6894 - val_loss: 0.4645 - val_accuracy: 0.8028\n",
            "Epoch 2/20\n",
            "40/40 [==============================] - 2s 62ms/step - loss: 0.3612 - accuracy: 0.8532 - val_loss: 0.2635 - val_accuracy: 0.8979\n",
            "Epoch 3/20\n",
            "40/40 [==============================] - 3s 71ms/step - loss: 0.2134 - accuracy: 0.9198 - val_loss: 0.1814 - val_accuracy: 0.9345\n",
            "Epoch 4/20\n",
            "40/40 [==============================] - 4s 97ms/step - loss: 0.1282 - accuracy: 0.9584 - val_loss: 0.1374 - val_accuracy: 0.9541\n",
            "Epoch 5/20\n",
            "40/40 [==============================] - 3s 67ms/step - loss: 0.0730 - accuracy: 0.9802 - val_loss: 0.1218 - val_accuracy: 0.9616\n",
            "Epoch 6/20\n",
            "40/40 [==============================] - 3s 72ms/step - loss: 0.0430 - accuracy: 0.9905 - val_loss: 0.1684 - val_accuracy: 0.9489\n",
            "Epoch 7/20\n",
            "40/40 [==============================] - 2s 61ms/step - loss: 0.0400 - accuracy: 0.9892 - val_loss: 0.1210 - val_accuracy: 0.9656\n",
            "Epoch 8/20\n",
            "40/40 [==============================] - 3s 71ms/step - loss: 0.0122 - accuracy: 0.9987 - val_loss: 0.1187 - val_accuracy: 0.9671\n",
            "Epoch 9/20\n",
            "40/40 [==============================] - 4s 107ms/step - loss: 0.0071 - accuracy: 0.9997 - val_loss: 0.1221 - val_accuracy: 0.9671\n",
            "Epoch 10/20\n",
            "40/40 [==============================] - 4s 108ms/step - loss: 0.0049 - accuracy: 0.9998 - val_loss: 0.1262 - val_accuracy: 0.9668\n",
            "Epoch 11/20\n",
            "40/40 [==============================] - 2s 61ms/step - loss: 0.0037 - accuracy: 0.9998 - val_loss: 0.1300 - val_accuracy: 0.9669\n",
            "Epoch 12/20\n",
            "40/40 [==============================] - 2s 61ms/step - loss: 0.0028 - accuracy: 0.9999 - val_loss: 0.1335 - val_accuracy: 0.9668\n",
            "Epoch 13/20\n",
            "40/40 [==============================] - 2s 61ms/step - loss: 0.0022 - accuracy: 0.9999 - val_loss: 0.1371 - val_accuracy: 0.9667\n",
            "Epoch 14/20\n",
            "40/40 [==============================] - 3s 75ms/step - loss: 0.0018 - accuracy: 0.9999 - val_loss: 0.1405 - val_accuracy: 0.9664\n",
            "Epoch 15/20\n",
            "40/40 [==============================] - 5s 126ms/step - loss: 0.0014 - accuracy: 0.9999 - val_loss: 0.1439 - val_accuracy: 0.9666\n",
            "Epoch 16/20\n",
            "40/40 [==============================] - 3s 79ms/step - loss: 0.0011 - accuracy: 1.0000 - val_loss: 0.1471 - val_accuracy: 0.9667\n",
            "Epoch 17/20\n",
            "40/40 [==============================] - 3s 71ms/step - loss: 9.3130e-04 - accuracy: 1.0000 - val_loss: 0.1504 - val_accuracy: 0.9665\n",
            "Epoch 18/20\n",
            "40/40 [==============================] - 2s 60ms/step - loss: 7.9676e-04 - accuracy: 1.0000 - val_loss: 0.1538 - val_accuracy: 0.9663\n",
            "Epoch 19/20\n",
            "40/40 [==============================] - 3s 64ms/step - loss: 6.8854e-04 - accuracy: 1.0000 - val_loss: 0.1573 - val_accuracy: 0.9663\n",
            "Epoch 20/20\n",
            "40/40 [==============================] - 4s 94ms/step - loss: 5.9946e-04 - accuracy: 1.0000 - val_loss: 0.1608 - val_accuracy: 0.9661\n",
            "40/40 [==============================] - 1s 25ms/step - loss: 0.1608 - accuracy: 0.9661\n",
            "49/49 [==============================] - 1s 23ms/step - loss: 0.7454 - accuracy: 0.8450\n"
          ]
        }
      ]
    },
    {
      "cell_type": "code",
      "source": [
        "history = compile_and_fit(model128)\n",
        "\n",
        "val_performance['nlnm 128'] = model128.evaluate(validation_data.batch(512))\n",
        "performance['nlnm 128'] = model128.evaluate(test_data.batch(512))"
      ],
      "metadata": {
        "colab": {
          "base_uri": "https://localhost:8080/"
        },
        "id": "JCtuRG9-HS6q",
        "outputId": "29e0d18e-c957-462d-a5ab-7112ae5e44b3"
      },
      "execution_count": 42,
      "outputs": [
        {
          "output_type": "stream",
          "name": "stdout",
          "text": [
            "Epoch 1/20\n",
            "40/40 [==============================] - 15s 254ms/step - loss: 9.4591e-05 - accuracy: 1.0000 - val_loss: 0.2245 - val_accuracy: 0.9660\n",
            "Epoch 2/20\n",
            "40/40 [==============================] - 4s 88ms/step - loss: 2.2680e-05 - accuracy: 1.0000 - val_loss: 0.2398 - val_accuracy: 0.9657\n",
            "Epoch 3/20\n",
            "40/40 [==============================] - 6s 141ms/step - loss: 8.7493e-06 - accuracy: 1.0000 - val_loss: 0.2484 - val_accuracy: 0.9656\n",
            "Epoch 4/20\n",
            "40/40 [==============================] - 3s 76ms/step - loss: 5.9299e-06 - accuracy: 1.0000 - val_loss: 0.2550 - val_accuracy: 0.9657\n",
            "Epoch 5/20\n",
            "40/40 [==============================] - 5s 135ms/step - loss: 4.3324e-06 - accuracy: 1.0000 - val_loss: 0.2608 - val_accuracy: 0.9657\n",
            "Epoch 6/20\n",
            "40/40 [==============================] - 4s 102ms/step - loss: 3.3914e-06 - accuracy: 1.0000 - val_loss: 0.2659 - val_accuracy: 0.9657\n",
            "Epoch 7/20\n",
            "40/40 [==============================] - 3s 76ms/step - loss: 2.7439e-06 - accuracy: 1.0000 - val_loss: 0.2706 - val_accuracy: 0.9657\n",
            "Epoch 8/20\n",
            "40/40 [==============================] - 3s 76ms/step - loss: 2.2781e-06 - accuracy: 1.0000 - val_loss: 0.2746 - val_accuracy: 0.9657\n",
            "Epoch 9/20\n",
            "40/40 [==============================] - 5s 124ms/step - loss: 1.9220e-06 - accuracy: 1.0000 - val_loss: 0.2783 - val_accuracy: 0.9657\n",
            "Epoch 10/20\n",
            "40/40 [==============================] - 4s 107ms/step - loss: 1.6368e-06 - accuracy: 1.0000 - val_loss: 0.2816 - val_accuracy: 0.9656\n",
            "Epoch 11/20\n",
            "40/40 [==============================] - 3s 77ms/step - loss: 1.3993e-06 - accuracy: 1.0000 - val_loss: 0.2847 - val_accuracy: 0.9658\n",
            "Epoch 12/20\n",
            "40/40 [==============================] - 4s 89ms/step - loss: 1.1987e-06 - accuracy: 1.0000 - val_loss: 0.2877 - val_accuracy: 0.9660\n",
            "Epoch 13/20\n",
            "40/40 [==============================] - 4s 96ms/step - loss: 1.0299e-06 - accuracy: 1.0000 - val_loss: 0.2905 - val_accuracy: 0.9661\n",
            "Epoch 14/20\n",
            "40/40 [==============================] - 6s 155ms/step - loss: 8.9093e-07 - accuracy: 1.0000 - val_loss: 0.2932 - val_accuracy: 0.9661\n",
            "Epoch 15/20\n",
            "40/40 [==============================] - 3s 81ms/step - loss: 7.7802e-07 - accuracy: 1.0000 - val_loss: 0.2956 - val_accuracy: 0.9662\n",
            "Epoch 16/20\n",
            "40/40 [==============================] - 6s 143ms/step - loss: 6.8698e-07 - accuracy: 1.0000 - val_loss: 0.2979 - val_accuracy: 0.9661\n",
            "Epoch 17/20\n",
            "40/40 [==============================] - 5s 113ms/step - loss: 6.1315e-07 - accuracy: 1.0000 - val_loss: 0.3000 - val_accuracy: 0.9661\n",
            "Epoch 18/20\n",
            "40/40 [==============================] - 4s 107ms/step - loss: 5.5224e-07 - accuracy: 1.0000 - val_loss: 0.3020 - val_accuracy: 0.9661\n",
            "Epoch 19/20\n",
            "40/40 [==============================] - 6s 140ms/step - loss: 5.0120e-07 - accuracy: 1.0000 - val_loss: 0.3038 - val_accuracy: 0.9661\n",
            "Epoch 20/20\n",
            "40/40 [==============================] - 4s 88ms/step - loss: 4.5767e-07 - accuracy: 1.0000 - val_loss: 0.3056 - val_accuracy: 0.9661\n",
            "40/40 [==============================] - 1s 25ms/step - loss: 0.3056 - accuracy: 0.9661\n",
            "49/49 [==============================] - 1s 24ms/step - loss: 1.3198 - accuracy: 0.8478\n"
          ]
        }
      ]
    },
    {
      "cell_type": "code",
      "source": [
        "history = compile_and_fit(model128_norm)\n",
        "\n",
        "val_performance['nlnm 128_norm'] = model128_norm.evaluate(validation_data.batch(512))\n",
        "performance['nlnm 128_norm'] = model128_norm.evaluate(test_data.batch(512))"
      ],
      "metadata": {
        "colab": {
          "base_uri": "https://localhost:8080/"
        },
        "id": "0Fkqf6U3H-Ln",
        "outputId": "7852002e-b76e-4fd1-c957-243b1ca7c286"
      },
      "execution_count": 43,
      "outputs": [
        {
          "output_type": "stream",
          "name": "stdout",
          "text": [
            "Epoch 1/20\n",
            "40/40 [==============================] - 14s 296ms/step - loss: 1.6122e-05 - accuracy: 1.0000 - val_loss: 0.1979 - val_accuracy: 0.9722\n",
            "Epoch 2/20\n",
            "40/40 [==============================] - 4s 100ms/step - loss: 3.3946e-06 - accuracy: 1.0000 - val_loss: 0.2150 - val_accuracy: 0.9718\n",
            "Epoch 3/20\n",
            "40/40 [==============================] - 9s 238ms/step - loss: 1.2425e-06 - accuracy: 1.0000 - val_loss: 0.2249 - val_accuracy: 0.9718\n",
            "Epoch 4/20\n",
            "40/40 [==============================] - 4s 104ms/step - loss: 8.1693e-07 - accuracy: 1.0000 - val_loss: 0.2294 - val_accuracy: 0.9718\n",
            "Epoch 5/20\n",
            "40/40 [==============================] - 4s 94ms/step - loss: 5.7499e-07 - accuracy: 1.0000 - val_loss: 0.2331 - val_accuracy: 0.9719\n",
            "Epoch 6/20\n",
            "40/40 [==============================] - 5s 136ms/step - loss: 4.3856e-07 - accuracy: 1.0000 - val_loss: 0.2370 - val_accuracy: 0.9719\n",
            "Epoch 7/20\n",
            "40/40 [==============================] - 4s 92ms/step - loss: 3.5412e-07 - accuracy: 1.0000 - val_loss: 0.2406 - val_accuracy: 0.9719\n",
            "Epoch 8/20\n",
            "40/40 [==============================] - 5s 135ms/step - loss: 2.9442e-07 - accuracy: 1.0000 - val_loss: 0.2439 - val_accuracy: 0.9719\n",
            "Epoch 9/20\n",
            "40/40 [==============================] - 4s 95ms/step - loss: 2.5055e-07 - accuracy: 1.0000 - val_loss: 0.2470 - val_accuracy: 0.9719\n",
            "Epoch 10/20\n",
            "40/40 [==============================] - 5s 136ms/step - loss: 2.1698e-07 - accuracy: 1.0000 - val_loss: 0.2500 - val_accuracy: 0.9721\n",
            "Epoch 11/20\n",
            "40/40 [==============================] - 4s 97ms/step - loss: 1.9067e-07 - accuracy: 1.0000 - val_loss: 0.2529 - val_accuracy: 0.9722\n",
            "Epoch 12/20\n",
            "40/40 [==============================] - 5s 130ms/step - loss: 1.6957e-07 - accuracy: 1.0000 - val_loss: 0.2557 - val_accuracy: 0.9725\n",
            "Epoch 13/20\n",
            "40/40 [==============================] - 5s 125ms/step - loss: 1.5212e-07 - accuracy: 1.0000 - val_loss: 0.2583 - val_accuracy: 0.9724\n",
            "Epoch 14/20\n",
            "40/40 [==============================] - 4s 92ms/step - loss: 1.3758e-07 - accuracy: 1.0000 - val_loss: 0.2608 - val_accuracy: 0.9724\n",
            "Epoch 15/20\n",
            "40/40 [==============================] - 4s 93ms/step - loss: 1.2474e-07 - accuracy: 1.0000 - val_loss: 0.2631 - val_accuracy: 0.9724\n",
            "Epoch 16/20\n",
            "40/40 [==============================] - 6s 142ms/step - loss: 1.1366e-07 - accuracy: 1.0000 - val_loss: 0.2652 - val_accuracy: 0.9722\n",
            "Epoch 17/20\n",
            "40/40 [==============================] - 4s 107ms/step - loss: 1.0353e-07 - accuracy: 1.0000 - val_loss: 0.2671 - val_accuracy: 0.9722\n",
            "Epoch 18/20\n",
            "40/40 [==============================] - 4s 97ms/step - loss: 9.4222e-08 - accuracy: 1.0000 - val_loss: 0.2689 - val_accuracy: 0.9724\n",
            "Epoch 19/20\n",
            "40/40 [==============================] - 5s 133ms/step - loss: 8.5328e-08 - accuracy: 1.0000 - val_loss: 0.2704 - val_accuracy: 0.9722\n",
            "Epoch 20/20\n",
            "40/40 [==============================] - 4s 96ms/step - loss: 7.6897e-08 - accuracy: 1.0000 - val_loss: 0.2718 - val_accuracy: 0.9719\n",
            "40/40 [==============================] - 1s 33ms/step - loss: 0.2718 - accuracy: 0.9719\n",
            "49/49 [==============================] - 2s 33ms/step - loss: 1.4201 - accuracy: 0.8622\n"
          ]
        }
      ]
    },
    {
      "cell_type": "code",
      "source": [
        "x = np.arange(len(performance))\n",
        "width = 0.3\n",
        "\n",
        "metric_name = 'accuracy'\n",
        "metric_index = model512.metrics_names.index('accuracy')\n",
        "val_mae = [v[metric_index] for v in val_performance.values()]\n",
        "test_mae = [v[metric_index] for v in performance.values()]\n",
        "\n",
        "plt.figure(figsize = (20, 10))\n",
        "plt.bar(x - 0.17, val_mae, width, label='Validation')\n",
        "plt.bar(x + 0.17, test_mae, width, label='Test')\n",
        "plt.xticks(ticks=x, labels=performance.keys(),\n",
        "           rotation=45)\n",
        "for index, value in enumerate(val_mae):\n",
        "    plt.text(index - 0.4, value+0.01, str(value)[0:4])\n",
        "for index, value in enumerate(test_mae):\n",
        "    plt.text(index + 0.04, value + 0.01, str(value)[0:4])\n",
        "plt.ylabel('Accuracy (average over all outputs)')\n",
        "\n",
        "_ = plt.legend()"
      ],
      "metadata": {
        "colab": {
          "base_uri": "https://localhost:8080/",
          "height": 923
        },
        "id": "Mh8Vi_P8IoNA",
        "outputId": "64b0dca0-53f7-4414-e02c-430f86b52d8c"
      },
      "execution_count": 44,
      "outputs": [
        {
          "output_type": "display_data",
          "data": {
            "text/plain": [
              "<Figure size 2000x1000 with 1 Axes>"
            ],
            "image/png": "[encoded data removed]"
          },
          "metadata": {}
        }
      ]
    },
    {
      "cell_type": "markdown",
      "source": [
        "### Conclusion and future direction\n",
        "#### Training a neural network can be time-consuming, especially when using complex architectures or large datasets. Reducing the number of epochs has proven to significantly speed up the training process, allowing you to iterate and experiment more quickly.Moreover, it helped prevent overfitting by limiting the amount of exposure the model has to the training data. Furthermore, reducing the number of epochs can help conserve GPU memory and processing power resources, making it more feasible to train models on less powerful hardware or in resource-constrained environments. Further analysis would also call for layer dropout or learning rate regularization."
      ],
      "metadata": {
        "id": "eWnsGs9YKfEV"
      }
    }
  ],
  "metadata": {
    "accelerator": "GPU",
    "colab": {
      "collapsed_sections": [
        "-tWy7Xt-6otJ",
        "NwPDw--W9QaH"
      ],
      "provenance": [],
      "gpuType": "T4"
    },
    "kernelspec": {
      "display_name": "Python 3",
      "name": "python3"
    },
    "language_info": {
      "codemirror_mode": {
        "name": "ipython",
        "version": 3
      },
      "file_extension": ".py",
      "mimetype": "text/x-python",
      "name": "python",
      "nbconvert_exporter": "python",
      "pygments_lexer": "ipython3",
      "version": "3.10.9"
    },
    "widgets": {
      "application/vnd.jupyter.widget-state+json": {
        "b6a423acc6cf4c8f8368bbd4313cb896": {
          "model_module": "@jupyter-widgets/controls",
          "model_name": "HBoxModel",
          "model_module_version": "1.5.0",
          "state": {
            "_dom_classes": [],
            "_model_module": "@jupyter-widgets/controls",
            "_model_module_version": "1.5.0",
            "_model_name": "HBoxModel",
            "_view_count": null,
            "_view_module": "@jupyter-widgets/controls",
            "_view_module_version": "1.5.0",
            "_view_name": "HBoxView",
            "box_style": "",
            "children": [
              "IPY_MODEL_8af5b981ff054410b8e229ab37b9fc82",
              "IPY_MODEL_815293d88151441dba7057de62bd144a",
              "IPY_MODEL_25220b2889524e5b85f81aab5abd0bb7"
            ],
            "layout": "IPY_MODEL_45f47f6b029a4ff694cba75a9cb7ea4c"
          }
        },
        "8af5b981ff054410b8e229ab37b9fc82": {
          "model_module": "@jupyter-widgets/controls",
          "model_name": "HTMLModel",
          "model_module_version": "1.5.0",
          "state": {
            "_dom_classes": [],
            "_model_module": "@jupyter-widgets/controls",
            "_model_module_version": "1.5.0",
            "_model_name": "HTMLModel",
            "_view_count": null,
            "_view_module": "@jupyter-widgets/controls",
            "_view_module_version": "1.5.0",
            "_view_name": "HTMLView",
            "description": "",
            "description_tooltip": null,
            "layout": "IPY_MODEL_040dc56c4cd74007856013827a3ecb58",
            "placeholder": "​",
            "style": "IPY_MODEL_f6b7418e7ebe46d995efb50e072a84e4",
            "value": "Dl Completed...: 100%"
          }
        },
        "815293d88151441dba7057de62bd144a": {
          "model_module": "@jupyter-widgets/controls",
          "model_name": "FloatProgressModel",
          "model_module_version": "1.5.0",
          "state": {
            "_dom_classes": [],
            "_model_module": "@jupyter-widgets/controls",
            "_model_module_version": "1.5.0",
            "_model_name": "FloatProgressModel",
            "_view_count": null,
            "_view_module": "@jupyter-widgets/controls",
            "_view_module_version": "1.5.0",
            "_view_name": "ProgressView",
            "bar_style": "success",
            "description": "",
            "description_tooltip": null,
            "layout": "IPY_MODEL_10f0b66987f94345a3089b0aa07cd952",
            "max": 1,
            "min": 0,
            "orientation": "horizontal",
            "style": "IPY_MODEL_41f2cd7f86054142a5d813f82d77e4c2",
            "value": 1
          }
        },
        "25220b2889524e5b85f81aab5abd0bb7": {
          "model_module": "@jupyter-widgets/controls",
          "model_name": "HTMLModel",
          "model_module_version": "1.5.0",
          "state": {
            "_dom_classes": [],
            "_model_module": "@jupyter-widgets/controls",
            "_model_module_version": "1.5.0",
            "_model_name": "HTMLModel",
            "_view_count": null,
            "_view_module": "@jupyter-widgets/controls",
            "_view_module_version": "1.5.0",
            "_view_name": "HTMLView",
            "description": "",
            "description_tooltip": null,
            "layout": "IPY_MODEL_51768717921f475abe97ad5fd0668715",
            "placeholder": "​",
            "style": "IPY_MODEL_c7333cf22651468f826d9d33afb0ff2b",
            "value": " 1/1 [00:09&lt;00:00,  9.57s/ url]"
          }
        },
        "45f47f6b029a4ff694cba75a9cb7ea4c": {
          "model_module": "@jupyter-widgets/base",
          "model_name": "LayoutModel",
          "model_module_version": "1.2.0",
          "state": {
            "_model_module": "@jupyter-widgets/base",
            "_model_module_version": "1.2.0",
            "_model_name": "LayoutModel",
            "_view_count": null,
            "_view_module": "@jupyter-widgets/base",
            "_view_module_version": "1.2.0",
            "_view_name": "LayoutView",
            "align_content": null,
            "align_items": null,
            "align_self": null,
            "border": null,
            "bottom": null,
            "display": null,
            "flex": null,
            "flex_flow": null,
            "grid_area": null,
            "grid_auto_columns": null,
            "grid_auto_flow": null,
            "grid_auto_rows": null,
            "grid_column": null,
            "grid_gap": null,
            "grid_row": null,
            "grid_template_areas": null,
            "grid_template_columns": null,
            "grid_template_rows": null,
            "height": null,
            "justify_content": null,
            "justify_items": null,
            "left": null,
            "margin": null,
            "max_height": null,
            "max_width": null,
            "min_height": null,
            "min_width": null,
            "object_fit": null,
            "object_position": null,
            "order": null,
            "overflow": null,
            "overflow_x": null,
            "overflow_y": null,
            "padding": null,
            "right": null,
            "top": null,
            "visibility": null,
            "width": null
          }
        },
        "040dc56c4cd74007856013827a3ecb58": {
          "model_module": "@jupyter-widgets/base",
          "model_name": "LayoutModel",
          "model_module_version": "1.2.0",
          "state": {
            "_model_module": "@jupyter-widgets/base",
            "_model_module_version": "1.2.0",
            "_model_name": "LayoutModel",
            "_view_count": null,
            "_view_module": "@jupyter-widgets/base",
            "_view_module_version": "1.2.0",
            "_view_name": "LayoutView",
            "align_content": null,
            "align_items": null,
            "align_self": null,
            "border": null,
            "bottom": null,
            "display": null,
            "flex": null,
            "flex_flow": null,
            "grid_area": null,
            "grid_auto_columns": null,
            "grid_auto_flow": null,
            "grid_auto_rows": null,
            "grid_column": null,
            "grid_gap": null,
            "grid_row": null,
            "grid_template_areas": null,
            "grid_template_columns": null,
            "grid_template_rows": null,
            "height": null,
            "justify_content": null,
            "justify_items": null,
            "left": null,
            "margin": null,
            "max_height": null,
            "max_width": null,
            "min_height": null,
            "min_width": null,
            "object_fit": null,
            "object_position": null,
            "order": null,
            "overflow": null,
            "overflow_x": null,
            "overflow_y": null,
            "padding": null,
            "right": null,
            "top": null,
            "visibility": null,
            "width": null
          }
        },
        "f6b7418e7ebe46d995efb50e072a84e4": {
          "model_module": "@jupyter-widgets/controls",
          "model_name": "DescriptionStyleModel",
          "model_module_version": "1.5.0",
          "state": {
            "_model_module": "@jupyter-widgets/controls",
            "_model_module_version": "1.5.0",
            "_model_name": "DescriptionStyleModel",
            "_view_count": null,
            "_view_module": "@jupyter-widgets/base",
            "_view_module_version": "1.2.0",
            "_view_name": "StyleView",
            "description_width": ""
          }
        },
        "10f0b66987f94345a3089b0aa07cd952": {
          "model_module": "@jupyter-widgets/base",
          "model_name": "LayoutModel",
          "model_module_version": "1.2.0",
          "state": {
            "_model_module": "@jupyter-widgets/base",
            "_model_module_version": "1.2.0",
            "_model_name": "LayoutModel",
            "_view_count": null,
            "_view_module": "@jupyter-widgets/base",
            "_view_module_version": "1.2.0",
            "_view_name": "LayoutView",
            "align_content": null,
            "align_items": null,
            "align_self": null,
            "border": null,
            "bottom": null,
            "display": null,
            "flex": null,
            "flex_flow": null,
            "grid_area": null,
            "grid_auto_columns": null,
            "grid_auto_flow": null,
            "grid_auto_rows": null,
            "grid_column": null,
            "grid_gap": null,
            "grid_row": null,
            "grid_template_areas": null,
            "grid_template_columns": null,
            "grid_template_rows": null,
            "height": null,
            "justify_content": null,
            "justify_items": null,
            "left": null,
            "margin": null,
            "max_height": null,
            "max_width": null,
            "min_height": null,
            "min_width": null,
            "object_fit": null,
            "object_position": null,
            "order": null,
            "overflow": null,
            "overflow_x": null,
            "overflow_y": null,
            "padding": null,
            "right": null,
            "top": null,
            "visibility": null,
            "width": "20px"
          }
        },
        "41f2cd7f86054142a5d813f82d77e4c2": {
          "model_module": "@jupyter-widgets/controls",
          "model_name": "ProgressStyleModel",
          "model_module_version": "1.5.0",
          "state": {
            "_model_module": "@jupyter-widgets/controls",
            "_model_module_version": "1.5.0",
            "_model_name": "ProgressStyleModel",
            "_view_count": null,
            "_view_module": "@jupyter-widgets/base",
            "_view_module_version": "1.2.0",
            "_view_name": "StyleView",
            "bar_color": null,
            "description_width": ""
          }
        },
        "51768717921f475abe97ad5fd0668715": {
          "model_module": "@jupyter-widgets/base",
          "model_name": "LayoutModel",
          "model_module_version": "1.2.0",
          "state": {
            "_model_module": "@jupyter-widgets/base",
            "_model_module_version": "1.2.0",
            "_model_name": "LayoutModel",
            "_view_count": null,
            "_view_module": "@jupyter-widgets/base",
            "_view_module_version": "1.2.0",
            "_view_name": "LayoutView",
            "align_content": null,
            "align_items": null,
            "align_self": null,
            "border": null,
            "bottom": null,
            "display": null,
            "flex": null,
            "flex_flow": null,
            "grid_area": null,
            "grid_auto_columns": null,
            "grid_auto_flow": null,
            "grid_auto_rows": null,
            "grid_column": null,
            "grid_gap": null,
            "grid_row": null,
            "grid_template_areas": null,
            "grid_template_columns": null,
            "grid_template_rows": null,
            "height": null,
            "justify_content": null,
            "justify_items": null,
            "left": null,
            "margin": null,
            "max_height": null,
            "max_width": null,
            "min_height": null,
            "min_width": null,
            "object_fit": null,
            "object_position": null,
            "order": null,
            "overflow": null,
            "overflow_x": null,
            "overflow_y": null,
            "padding": null,
            "right": null,
            "top": null,
            "visibility": null,
            "width": null
          }
        },
        "c7333cf22651468f826d9d33afb0ff2b": {
          "model_module": "@jupyter-widgets/controls",
          "model_name": "DescriptionStyleModel",
          "model_module_version": "1.5.0",
          "state": {
            "_model_module": "@jupyter-widgets/controls",
            "_model_module_version": "1.5.0",
            "_model_name": "DescriptionStyleModel",
            "_view_count": null,
            "_view_module": "@jupyter-widgets/base",
            "_view_module_version": "1.2.0",
            "_view_name": "StyleView",
            "description_width": ""
          }
        },
        "fb57a31b7f164fee81faabe896447571": {
          "model_module": "@jupyter-widgets/controls",
          "model_name": "HBoxModel",
          "model_module_version": "1.5.0",
          "state": {
            "_dom_classes": [],
            "_model_module": "@jupyter-widgets/controls",
            "_model_module_version": "1.5.0",
            "_model_name": "HBoxModel",
            "_view_count": null,
            "_view_module": "@jupyter-widgets/controls",
            "_view_module_version": "1.5.0",
            "_view_name": "HBoxView",
            "box_style": "",
            "children": [
              "IPY_MODEL_57769877999546188cd88d6d5f87903f",
              "IPY_MODEL_2648f402566e401e8dea22dd9a60d63c",
              "IPY_MODEL_02545f6219a1497ca7c6c6035694f4b1"
            ],
            "layout": "IPY_MODEL_526a702a719a405fbc56a1c86416e2dd"
          }
        },
        "57769877999546188cd88d6d5f87903f": {
          "model_module": "@jupyter-widgets/controls",
          "model_name": "HTMLModel",
          "model_module_version": "1.5.0",
          "state": {
            "_dom_classes": [],
            "_model_module": "@jupyter-widgets/controls",
            "_model_module_version": "1.5.0",
            "_model_name": "HTMLModel",
            "_view_count": null,
            "_view_module": "@jupyter-widgets/controls",
            "_view_module_version": "1.5.0",
            "_view_name": "HTMLView",
            "description": "",
            "description_tooltip": null,
            "layout": "IPY_MODEL_60ecedc43bf14d068ccd94bb81d1a4d0",
            "placeholder": "​",
            "style": "IPY_MODEL_e47b327d684c432cb83312701d636deb",
            "value": "Dl Size...: 100%"
          }
        },
        "2648f402566e401e8dea22dd9a60d63c": {
          "model_module": "@jupyter-widgets/controls",
          "model_name": "FloatProgressModel",
          "model_module_version": "1.5.0",
          "state": {
            "_dom_classes": [],
            "_model_module": "@jupyter-widgets/controls",
            "_model_module_version": "1.5.0",
            "_model_name": "FloatProgressModel",
            "_view_count": null,
            "_view_module": "@jupyter-widgets/controls",
            "_view_module_version": "1.5.0",
            "_view_name": "ProgressView",
            "bar_style": "success",
            "description": "",
            "description_tooltip": null,
            "layout": "IPY_MODEL_06a20bd37c174f66a0561b2cbfc48a25",
            "max": 1,
            "min": 0,
            "orientation": "horizontal",
            "style": "IPY_MODEL_a6ddbeaad3814316b570317e01c82e2a",
            "value": 1
          }
        },
        "02545f6219a1497ca7c6c6035694f4b1": {
          "model_module": "@jupyter-widgets/controls",
          "model_name": "HTMLModel",
          "model_module_version": "1.5.0",
          "state": {
            "_dom_classes": [],
            "_model_module": "@jupyter-widgets/controls",
            "_model_module_version": "1.5.0",
            "_model_name": "HTMLModel",
            "_view_count": null,
            "_view_module": "@jupyter-widgets/controls",
            "_view_module_version": "1.5.0",
            "_view_name": "HTMLView",
            "description": "",
            "description_tooltip": null,
            "layout": "IPY_MODEL_34972ee9f3ed43d8888f44bfbf06016a",
            "placeholder": "​",
            "style": "IPY_MODEL_5748a1d5f7994b18a2a9e4850ebbc948",
            "value": " 80/80 [00:09&lt;00:00, 14.98 MiB/s]"
          }
        },
        "526a702a719a405fbc56a1c86416e2dd": {
          "model_module": "@jupyter-widgets/base",
          "model_name": "LayoutModel",
          "model_module_version": "1.2.0",
          "state": {
            "_model_module": "@jupyter-widgets/base",
            "_model_module_version": "1.2.0",
            "_model_name": "LayoutModel",
            "_view_count": null,
            "_view_module": "@jupyter-widgets/base",
            "_view_module_version": "1.2.0",
            "_view_name": "LayoutView",
            "align_content": null,
            "align_items": null,
            "align_self": null,
            "border": null,
            "bottom": null,
            "display": null,
            "flex": null,
            "flex_flow": null,
            "grid_area": null,
            "grid_auto_columns": null,
            "grid_auto_flow": null,
            "grid_auto_rows": null,
            "grid_column": null,
            "grid_gap": null,
            "grid_row": null,
            "grid_template_areas": null,
            "grid_template_columns": null,
            "grid_template_rows": null,
            "height": null,
            "justify_content": null,
            "justify_items": null,
            "left": null,
            "margin": null,
            "max_height": null,
            "max_width": null,
            "min_height": null,
            "min_width": null,
            "object_fit": null,
            "object_position": null,
            "order": null,
            "overflow": null,
            "overflow_x": null,
            "overflow_y": null,
            "padding": null,
            "right": null,
            "top": null,
            "visibility": null,
            "width": null
          }
        },
        "60ecedc43bf14d068ccd94bb81d1a4d0": {
          "model_module": "@jupyter-widgets/base",
          "model_name": "LayoutModel",
          "model_module_version": "1.2.0",
          "state": {
            "_model_module": "@jupyter-widgets/base",
            "_model_module_version": "1.2.0",
            "_model_name": "LayoutModel",
            "_view_count": null,
            "_view_module": "@jupyter-widgets/base",
            "_view_module_version": "1.2.0",
            "_view_name": "LayoutView",
            "align_content": null,
            "align_items": null,
            "align_self": null,
            "border": null,
            "bottom": null,
            "display": null,
            "flex": null,
            "flex_flow": null,
            "grid_area": null,
            "grid_auto_columns": null,
            "grid_auto_flow": null,
            "grid_auto_rows": null,
            "grid_column": null,
            "grid_gap": null,
            "grid_row": null,
            "grid_template_areas": null,
            "grid_template_columns": null,
            "grid_template_rows": null,
            "height": null,
            "justify_content": null,
            "justify_items": null,
            "left": null,
            "margin": null,
            "max_height": null,
            "max_width": null,
            "min_height": null,
            "min_width": null,
            "object_fit": null,
            "object_position": null,
            "order": null,
            "overflow": null,
            "overflow_x": null,
            "overflow_y": null,
            "padding": null,
            "right": null,
            "top": null,
            "visibility": null,
            "width": null
          }
        },
        "e47b327d684c432cb83312701d636deb": {
          "model_module": "@jupyter-widgets/controls",
          "model_name": "DescriptionStyleModel",
          "model_module_version": "1.5.0",
          "state": {
            "_model_module": "@jupyter-widgets/controls",
            "_model_module_version": "1.5.0",
            "_model_name": "DescriptionStyleModel",
            "_view_count": null,
            "_view_module": "@jupyter-widgets/base",
            "_view_module_version": "1.2.0",
            "_view_name": "StyleView",
            "description_width": ""
          }
        },
        "06a20bd37c174f66a0561b2cbfc48a25": {
          "model_module": "@jupyter-widgets/base",
          "model_name": "LayoutModel",
          "model_module_version": "1.2.0",
          "state": {
            "_model_module": "@jupyter-widgets/base",
            "_model_module_version": "1.2.0",
            "_model_name": "LayoutModel",
            "_view_count": null,
            "_view_module": "@jupyter-widgets/base",
            "_view_module_version": "1.2.0",
            "_view_name": "LayoutView",
            "align_content": null,
            "align_items": null,
            "align_self": null,
            "border": null,
            "bottom": null,
            "display": null,
            "flex": null,
            "flex_flow": null,
            "grid_area": null,
            "grid_auto_columns": null,
            "grid_auto_flow": null,
            "grid_auto_rows": null,
            "grid_column": null,
            "grid_gap": null,
            "grid_row": null,
            "grid_template_areas": null,
            "grid_template_columns": null,
            "grid_template_rows": null,
            "height": null,
            "justify_content": null,
            "justify_items": null,
            "left": null,
            "margin": null,
            "max_height": null,
            "max_width": null,
            "min_height": null,
            "min_width": null,
            "object_fit": null,
            "object_position": null,
            "order": null,
            "overflow": null,
            "overflow_x": null,
            "overflow_y": null,
            "padding": null,
            "right": null,
            "top": null,
            "visibility": null,
            "width": "20px"
          }
        },
        "a6ddbeaad3814316b570317e01c82e2a": {
          "model_module": "@jupyter-widgets/controls",
          "model_name": "ProgressStyleModel",
          "model_module_version": "1.5.0",
          "state": {
            "_model_module": "@jupyter-widgets/controls",
            "_model_module_version": "1.5.0",
            "_model_name": "ProgressStyleModel",
            "_view_count": null,
            "_view_module": "@jupyter-widgets/base",
            "_view_module_version": "1.2.0",
            "_view_name": "StyleView",
            "bar_color": null,
            "description_width": ""
          }
        },
        "34972ee9f3ed43d8888f44bfbf06016a": {
          "model_module": "@jupyter-widgets/base",
          "model_name": "LayoutModel",
          "model_module_version": "1.2.0",
          "state": {
            "_model_module": "@jupyter-widgets/base",
            "_model_module_version": "1.2.0",
            "_model_name": "LayoutModel",
            "_view_count": null,
            "_view_module": "@jupyter-widgets/base",
            "_view_module_version": "1.2.0",
            "_view_name": "LayoutView",
            "align_content": null,
            "align_items": null,
            "align_self": null,
            "border": null,
            "bottom": null,
            "display": null,
            "flex": null,
            "flex_flow": null,
            "grid_area": null,
            "grid_auto_columns": null,
            "grid_auto_flow": null,
            "grid_auto_rows": null,
            "grid_column": null,
            "grid_gap": null,
            "grid_row": null,
            "grid_template_areas": null,
            "grid_template_columns": null,
            "grid_template_rows": null,
            "height": null,
            "justify_content": null,
            "justify_items": null,
            "left": null,
            "margin": null,
            "max_height": null,
            "max_width": null,
            "min_height": null,
            "min_width": null,
            "object_fit": null,
            "object_position": null,
            "order": null,
            "overflow": null,
            "overflow_x": null,
            "overflow_y": null,
            "padding": null,
            "right": null,
            "top": null,
            "visibility": null,
            "width": null
          }
        },
        "5748a1d5f7994b18a2a9e4850ebbc948": {
          "model_module": "@jupyter-widgets/controls",
          "model_name": "DescriptionStyleModel",
          "model_module_version": "1.5.0",
          "state": {
            "_model_module": "@jupyter-widgets/controls",
            "_model_module_version": "1.5.0",
            "_model_name": "DescriptionStyleModel",
            "_view_count": null,
            "_view_module": "@jupyter-widgets/base",
            "_view_module_version": "1.2.0",
            "_view_name": "StyleView",
            "description_width": ""
          }
        },
        "d711cc163a9b4bdca2a99ca77092fd97": {
          "model_module": "@jupyter-widgets/controls",
          "model_name": "HBoxModel",
          "model_module_version": "1.5.0",
          "state": {
            "_dom_classes": [],
            "_model_module": "@jupyter-widgets/controls",
            "_model_module_version": "1.5.0",
            "_model_name": "HBoxModel",
            "_view_count": null,
            "_view_module": "@jupyter-widgets/controls",
            "_view_module_version": "1.5.0",
            "_view_name": "HBoxView",
            "box_style": "",
            "children": [
              "IPY_MODEL_fad1d28eb0764f97be7a54b1a01adf5f",
              "IPY_MODEL_5d4899fac1394467b52e11ee32c2483d",
              "IPY_MODEL_a26d4c5071074a689f2bfb954515e9d3"
            ],
            "layout": "IPY_MODEL_50d8435bb60e4e4db65254ea17b98204"
          }
        },
        "fad1d28eb0764f97be7a54b1a01adf5f": {
          "model_module": "@jupyter-widgets/controls",
          "model_name": "HTMLModel",
          "model_module_version": "1.5.0",
          "state": {
            "_dom_classes": [],
            "_model_module": "@jupyter-widgets/controls",
            "_model_module_version": "1.5.0",
            "_model_name": "HTMLModel",
            "_view_count": null,
            "_view_module": "@jupyter-widgets/controls",
            "_view_module_version": "1.5.0",
            "_view_name": "HTMLView",
            "description": "",
            "description_tooltip": null,
            "layout": "IPY_MODEL_d4233a27c614461cae6f350b78cad128",
            "placeholder": "​",
            "style": "IPY_MODEL_9c47c1202e454435afb780185bc10c6d",
            "value": "Generating splits...: 100%"
          }
        },
        "5d4899fac1394467b52e11ee32c2483d": {
          "model_module": "@jupyter-widgets/controls",
          "model_name": "FloatProgressModel",
          "model_module_version": "1.5.0",
          "state": {
            "_dom_classes": [],
            "_model_module": "@jupyter-widgets/controls",
            "_model_module_version": "1.5.0",
            "_model_name": "FloatProgressModel",
            "_view_count": null,
            "_view_module": "@jupyter-widgets/controls",
            "_view_module_version": "1.5.0",
            "_view_name": "ProgressView",
            "bar_style": "",
            "description": "",
            "description_tooltip": null,
            "layout": "IPY_MODEL_0707a6559eb24a8bb52a43126b014dbb",
            "max": 3,
            "min": 0,
            "orientation": "horizontal",
            "style": "IPY_MODEL_982a4561fc214bccafa1763ae2e368af",
            "value": 3
          }
        },
        "a26d4c5071074a689f2bfb954515e9d3": {
          "model_module": "@jupyter-widgets/controls",
          "model_name": "HTMLModel",
          "model_module_version": "1.5.0",
          "state": {
            "_dom_classes": [],
            "_model_module": "@jupyter-widgets/controls",
            "_model_module_version": "1.5.0",
            "_model_name": "HTMLModel",
            "_view_count": null,
            "_view_module": "@jupyter-widgets/controls",
            "_view_module_version": "1.5.0",
            "_view_name": "HTMLView",
            "description": "",
            "description_tooltip": null,
            "layout": "IPY_MODEL_aa58b89e1afd45249d20a032d4457f79",
            "placeholder": "​",
            "style": "IPY_MODEL_de5d1dbc01f04ea196a039e962fd175e",
            "value": " 3/3 [00:36&lt;00:00, 12.84s/ splits]"
          }
        },
        "50d8435bb60e4e4db65254ea17b98204": {
          "model_module": "@jupyter-widgets/base",
          "model_name": "LayoutModel",
          "model_module_version": "1.2.0",
          "state": {
            "_model_module": "@jupyter-widgets/base",
            "_model_module_version": "1.2.0",
            "_model_name": "LayoutModel",
            "_view_count": null,
            "_view_module": "@jupyter-widgets/base",
            "_view_module_version": "1.2.0",
            "_view_name": "LayoutView",
            "align_content": null,
            "align_items": null,
            "align_self": null,
            "border": null,
            "bottom": null,
            "display": null,
            "flex": null,
            "flex_flow": null,
            "grid_area": null,
            "grid_auto_columns": null,
            "grid_auto_flow": null,
            "grid_auto_rows": null,
            "grid_column": null,
            "grid_gap": null,
            "grid_row": null,
            "grid_template_areas": null,
            "grid_template_columns": null,
            "grid_template_rows": null,
            "height": null,
            "justify_content": null,
            "justify_items": null,
            "left": null,
            "margin": null,
            "max_height": null,
            "max_width": null,
            "min_height": null,
            "min_width": null,
            "object_fit": null,
            "object_position": null,
            "order": null,
            "overflow": null,
            "overflow_x": null,
            "overflow_y": null,
            "padding": null,
            "right": null,
            "top": null,
            "visibility": "hidden",
            "width": null
          }
        },
        "d4233a27c614461cae6f350b78cad128": {
          "model_module": "@jupyter-widgets/base",
          "model_name": "LayoutModel",
          "model_module_version": "1.2.0",
          "state": {
            "_model_module": "@jupyter-widgets/base",
            "_model_module_version": "1.2.0",
            "_model_name": "LayoutModel",
            "_view_count": null,
            "_view_module": "@jupyter-widgets/base",
            "_view_module_version": "1.2.0",
            "_view_name": "LayoutView",
            "align_content": null,
            "align_items": null,
            "align_self": null,
            "border": null,
            "bottom": null,
            "display": null,
            "flex": null,
            "flex_flow": null,
            "grid_area": null,
            "grid_auto_columns": null,
            "grid_auto_flow": null,
            "grid_auto_rows": null,
            "grid_column": null,
            "grid_gap": null,
            "grid_row": null,
            "grid_template_areas": null,
            "grid_template_columns": null,
            "grid_template_rows": null,
            "height": null,
            "justify_content": null,
            "justify_items": null,
            "left": null,
            "margin": null,
            "max_height": null,
            "max_width": null,
            "min_height": null,
            "min_width": null,
            "object_fit": null,
            "object_position": null,
            "order": null,
            "overflow": null,
            "overflow_x": null,
            "overflow_y": null,
            "padding": null,
            "right": null,
            "top": null,
            "visibility": null,
            "width": null
          }
        },
        "9c47c1202e454435afb780185bc10c6d": {
          "model_module": "@jupyter-widgets/controls",
          "model_name": "DescriptionStyleModel",
          "model_module_version": "1.5.0",
          "state": {
            "_model_module": "@jupyter-widgets/controls",
            "_model_module_version": "1.5.0",
            "_model_name": "DescriptionStyleModel",
            "_view_count": null,
            "_view_module": "@jupyter-widgets/base",
            "_view_module_version": "1.2.0",
            "_view_name": "StyleView",
            "description_width": ""
          }
        },
        "0707a6559eb24a8bb52a43126b014dbb": {
          "model_module": "@jupyter-widgets/base",
          "model_name": "LayoutModel",
          "model_module_version": "1.2.0",
          "state": {
            "_model_module": "@jupyter-widgets/base",
            "_model_module_version": "1.2.0",
            "_model_name": "LayoutModel",
            "_view_count": null,
            "_view_module": "@jupyter-widgets/base",
            "_view_module_version": "1.2.0",
            "_view_name": "LayoutView",
            "align_content": null,
            "align_items": null,
            "align_self": null,
            "border": null,
            "bottom": null,
            "display": null,
            "flex": null,
            "flex_flow": null,
            "grid_area": null,
            "grid_auto_columns": null,
            "grid_auto_flow": null,
            "grid_auto_rows": null,
            "grid_column": null,
            "grid_gap": null,
            "grid_row": null,
            "grid_template_areas": null,
            "grid_template_columns": null,
            "grid_template_rows": null,
            "height": null,
            "justify_content": null,
            "justify_items": null,
            "left": null,
            "margin": null,
            "max_height": null,
            "max_width": null,
            "min_height": null,
            "min_width": null,
            "object_fit": null,
            "object_position": null,
            "order": null,
            "overflow": null,
            "overflow_x": null,
            "overflow_y": null,
            "padding": null,
            "right": null,
            "top": null,
            "visibility": null,
            "width": null
          }
        },
        "982a4561fc214bccafa1763ae2e368af": {
          "model_module": "@jupyter-widgets/controls",
          "model_name": "ProgressStyleModel",
          "model_module_version": "1.5.0",
          "state": {
            "_model_module": "@jupyter-widgets/controls",
            "_model_module_version": "1.5.0",
            "_model_name": "ProgressStyleModel",
            "_view_count": null,
            "_view_module": "@jupyter-widgets/base",
            "_view_module_version": "1.2.0",
            "_view_name": "StyleView",
            "bar_color": null,
            "description_width": ""
          }
        },
        "aa58b89e1afd45249d20a032d4457f79": {
          "model_module": "@jupyter-widgets/base",
          "model_name": "LayoutModel",
          "model_module_version": "1.2.0",
          "state": {
            "_model_module": "@jupyter-widgets/base",
            "_model_module_version": "1.2.0",
            "_model_name": "LayoutModel",
            "_view_count": null,
            "_view_module": "@jupyter-widgets/base",
            "_view_module_version": "1.2.0",
            "_view_name": "LayoutView",
            "align_content": null,
            "align_items": null,
            "align_self": null,
            "border": null,
            "bottom": null,
            "display": null,
            "flex": null,
            "flex_flow": null,
            "grid_area": null,
            "grid_auto_columns": null,
            "grid_auto_flow": null,
            "grid_auto_rows": null,
            "grid_column": null,
            "grid_gap": null,
            "grid_row": null,
            "grid_template_areas": null,
            "grid_template_columns": null,
            "grid_template_rows": null,
            "height": null,
            "justify_content": null,
            "justify_items": null,
            "left": null,
            "margin": null,
            "max_height": null,
            "max_width": null,
            "min_height": null,
            "min_width": null,
            "object_fit": null,
            "object_position": null,
            "order": null,
            "overflow": null,
            "overflow_x": null,
            "overflow_y": null,
            "padding": null,
            "right": null,
            "top": null,
            "visibility": null,
            "width": null
          }
        },
        "de5d1dbc01f04ea196a039e962fd175e": {
          "model_module": "@jupyter-widgets/controls",
          "model_name": "DescriptionStyleModel",
          "model_module_version": "1.5.0",
          "state": {
            "_model_module": "@jupyter-widgets/controls",
            "_model_module_version": "1.5.0",
            "_model_name": "DescriptionStyleModel",
            "_view_count": null,
            "_view_module": "@jupyter-widgets/base",
            "_view_module_version": "1.2.0",
            "_view_name": "StyleView",
            "description_width": ""
          }
        },
        "7ea90df35b8849918580ec096d790e0c": {
          "model_module": "@jupyter-widgets/controls",
          "model_name": "HBoxModel",
          "model_module_version": "1.5.0",
          "state": {
            "_dom_classes": [],
            "_model_module": "@jupyter-widgets/controls",
            "_model_module_version": "1.5.0",
            "_model_name": "HBoxModel",
            "_view_count": null,
            "_view_module": "@jupyter-widgets/controls",
            "_view_module_version": "1.5.0",
            "_view_name": "HBoxView",
            "box_style": "",
            "children": [
              "IPY_MODEL_83832696a58b4b7e9fc41e70e0fe65e5",
              "IPY_MODEL_366f58b539ad46979a6d3e3fee84ca03",
              "IPY_MODEL_7f90a850a92e4003a59c31342c7e61c2"
            ],
            "layout": "IPY_MODEL_6220089ce779497bb82ca319c90accac"
          }
        },
        "83832696a58b4b7e9fc41e70e0fe65e5": {
          "model_module": "@jupyter-widgets/controls",
          "model_name": "HTMLModel",
          "model_module_version": "1.5.0",
          "state": {
            "_dom_classes": [],
            "_model_module": "@jupyter-widgets/controls",
            "_model_module_version": "1.5.0",
            "_model_name": "HTMLModel",
            "_view_count": null,
            "_view_module": "@jupyter-widgets/controls",
            "_view_module_version": "1.5.0",
            "_view_name": "HTMLView",
            "description": "",
            "description_tooltip": null,
            "layout": "IPY_MODEL_32bf5861f15b406aad6dc9a598fcf530",
            "placeholder": "​",
            "style": "IPY_MODEL_e16fd13e66ed4cc7a64889fe9502c993",
            "value": "Generating train examples...: 100%"
          }
        },
        "366f58b539ad46979a6d3e3fee84ca03": {
          "model_module": "@jupyter-widgets/controls",
          "model_name": "FloatProgressModel",
          "model_module_version": "1.5.0",
          "state": {
            "_dom_classes": [],
            "_model_module": "@jupyter-widgets/controls",
            "_model_module_version": "1.5.0",
            "_model_name": "FloatProgressModel",
            "_view_count": null,
            "_view_module": "@jupyter-widgets/controls",
            "_view_module_version": "1.5.0",
            "_view_name": "ProgressView",
            "bar_style": "",
            "description": "",
            "description_tooltip": null,
            "layout": "IPY_MODEL_f0320875b43e4d60ab9f37c077129e07",
            "max": 25000,
            "min": 0,
            "orientation": "horizontal",
            "style": "IPY_MODEL_e121bdc37a4547a0bf0dc842fac3c657",
            "value": 25000
          }
        },
        "7f90a850a92e4003a59c31342c7e61c2": {
          "model_module": "@jupyter-widgets/controls",
          "model_name": "HTMLModel",
          "model_module_version": "1.5.0",
          "state": {
            "_dom_classes": [],
            "_model_module": "@jupyter-widgets/controls",
            "_model_module_version": "1.5.0",
            "_model_name": "HTMLModel",
            "_view_count": null,
            "_view_module": "@jupyter-widgets/controls",
            "_view_module_version": "1.5.0",
            "_view_name": "HTMLView",
            "description": "",
            "description_tooltip": null,
            "layout": "IPY_MODEL_73d79c29f4a94ae68c6c88a4c59c7782",
            "placeholder": "​",
            "style": "IPY_MODEL_ae00f5c27fd446e2af21c3d93f116b9f",
            "value": " 24891/25000 [00:07&lt;00:00, 5336.64 examples/s]"
          }
        },
        "6220089ce779497bb82ca319c90accac": {
          "model_module": "@jupyter-widgets/base",
          "model_name": "LayoutModel",
          "model_module_version": "1.2.0",
          "state": {
            "_model_module": "@jupyter-widgets/base",
            "_model_module_version": "1.2.0",
            "_model_name": "LayoutModel",
            "_view_count": null,
            "_view_module": "@jupyter-widgets/base",
            "_view_module_version": "1.2.0",
            "_view_name": "LayoutView",
            "align_content": null,
            "align_items": null,
            "align_self": null,
            "border": null,
            "bottom": null,
            "display": null,
            "flex": null,
            "flex_flow": null,
            "grid_area": null,
            "grid_auto_columns": null,
            "grid_auto_flow": null,
            "grid_auto_rows": null,
            "grid_column": null,
            "grid_gap": null,
            "grid_row": null,
            "grid_template_areas": null,
            "grid_template_columns": null,
            "grid_template_rows": null,
            "height": null,
            "justify_content": null,
            "justify_items": null,
            "left": null,
            "margin": null,
            "max_height": null,
            "max_width": null,
            "min_height": null,
            "min_width": null,
            "object_fit": null,
            "object_position": null,
            "order": null,
            "overflow": null,
            "overflow_x": null,
            "overflow_y": null,
            "padding": null,
            "right": null,
            "top": null,
            "visibility": "hidden",
            "width": null
          }
        },
        "32bf5861f15b406aad6dc9a598fcf530": {
          "model_module": "@jupyter-widgets/base",
          "model_name": "LayoutModel",
          "model_module_version": "1.2.0",
          "state": {
            "_model_module": "@jupyter-widgets/base",
            "_model_module_version": "1.2.0",
            "_model_name": "LayoutModel",
            "_view_count": null,
            "_view_module": "@jupyter-widgets/base",
            "_view_module_version": "1.2.0",
            "_view_name": "LayoutView",
            "align_content": null,
            "align_items": null,
            "align_self": null,
            "border": null,
            "bottom": null,
            "display": null,
            "flex": null,
            "flex_flow": null,
            "grid_area": null,
            "grid_auto_columns": null,
            "grid_auto_flow": null,
            "grid_auto_rows": null,
            "grid_column": null,
            "grid_gap": null,
            "grid_row": null,
            "grid_template_areas": null,
            "grid_template_columns": null,
            "grid_template_rows": null,
            "height": null,
            "justify_content": null,
            "justify_items": null,
            "left": null,
            "margin": null,
            "max_height": null,
            "max_width": null,
            "min_height": null,
            "min_width": null,
            "object_fit": null,
            "object_position": null,
            "order": null,
            "overflow": null,
            "overflow_x": null,
            "overflow_y": null,
            "padding": null,
            "right": null,
            "top": null,
            "visibility": null,
            "width": null
          }
        },
        "e16fd13e66ed4cc7a64889fe9502c993": {
          "model_module": "@jupyter-widgets/controls",
          "model_name": "DescriptionStyleModel",
          "model_module_version": "1.5.0",
          "state": {
            "_model_module": "@jupyter-widgets/controls",
            "_model_module_version": "1.5.0",
            "_model_name": "DescriptionStyleModel",
            "_view_count": null,
            "_view_module": "@jupyter-widgets/base",
            "_view_module_version": "1.2.0",
            "_view_name": "StyleView",
            "description_width": ""
          }
        },
        "f0320875b43e4d60ab9f37c077129e07": {
          "model_module": "@jupyter-widgets/base",
          "model_name": "LayoutModel",
          "model_module_version": "1.2.0",
          "state": {
            "_model_module": "@jupyter-widgets/base",
            "_model_module_version": "1.2.0",
            "_model_name": "LayoutModel",
            "_view_count": null,
            "_view_module": "@jupyter-widgets/base",
            "_view_module_version": "1.2.0",
            "_view_name": "LayoutView",
            "align_content": null,
            "align_items": null,
            "align_self": null,
            "border": null,
            "bottom": null,
            "display": null,
            "flex": null,
            "flex_flow": null,
            "grid_area": null,
            "grid_auto_columns": null,
            "grid_auto_flow": null,
            "grid_auto_rows": null,
            "grid_column": null,
            "grid_gap": null,
            "grid_row": null,
            "grid_template_areas": null,
            "grid_template_columns": null,
            "grid_template_rows": null,
            "height": null,
            "justify_content": null,
            "justify_items": null,
            "left": null,
            "margin": null,
            "max_height": null,
            "max_width": null,
            "min_height": null,
            "min_width": null,
            "object_fit": null,
            "object_position": null,
            "order": null,
            "overflow": null,
            "overflow_x": null,
            "overflow_y": null,
            "padding": null,
            "right": null,
            "top": null,
            "visibility": null,
            "width": null
          }
        },
        "e121bdc37a4547a0bf0dc842fac3c657": {
          "model_module": "@jupyter-widgets/controls",
          "model_name": "ProgressStyleModel",
          "model_module_version": "1.5.0",
          "state": {
            "_model_module": "@jupyter-widgets/controls",
            "_model_module_version": "1.5.0",
            "_model_name": "ProgressStyleModel",
            "_view_count": null,
            "_view_module": "@jupyter-widgets/base",
            "_view_module_version": "1.2.0",
            "_view_name": "StyleView",
            "bar_color": null,
            "description_width": ""
          }
        },
        "73d79c29f4a94ae68c6c88a4c59c7782": {
          "model_module": "@jupyter-widgets/base",
          "model_name": "LayoutModel",
          "model_module_version": "1.2.0",
          "state": {
            "_model_module": "@jupyter-widgets/base",
            "_model_module_version": "1.2.0",
            "_model_name": "LayoutModel",
            "_view_count": null,
            "_view_module": "@jupyter-widgets/base",
            "_view_module_version": "1.2.0",
            "_view_name": "LayoutView",
            "align_content": null,
            "align_items": null,
            "align_self": null,
            "border": null,
            "bottom": null,
            "display": null,
            "flex": null,
            "flex_flow": null,
            "grid_area": null,
            "grid_auto_columns": null,
            "grid_auto_flow": null,
            "grid_auto_rows": null,
            "grid_column": null,
            "grid_gap": null,
            "grid_row": null,
            "grid_template_areas": null,
            "grid_template_columns": null,
            "grid_template_rows": null,
            "height": null,
            "justify_content": null,
            "justify_items": null,
            "left": null,
            "margin": null,
            "max_height": null,
            "max_width": null,
            "min_height": null,
            "min_width": null,
            "object_fit": null,
            "object_position": null,
            "order": null,
            "overflow": null,
            "overflow_x": null,
            "overflow_y": null,
            "padding": null,
            "right": null,
            "top": null,
            "visibility": null,
            "width": null
          }
        },
        "ae00f5c27fd446e2af21c3d93f116b9f": {
          "model_module": "@jupyter-widgets/controls",
          "model_name": "DescriptionStyleModel",
          "model_module_version": "1.5.0",
          "state": {
            "_model_module": "@jupyter-widgets/controls",
            "_model_module_version": "1.5.0",
            "_model_name": "DescriptionStyleModel",
            "_view_count": null,
            "_view_module": "@jupyter-widgets/base",
            "_view_module_version": "1.2.0",
            "_view_name": "StyleView",
            "description_width": ""
          }
        },
        "c09082961b404651be91cfe9481f8760": {
          "model_module": "@jupyter-widgets/controls",
          "model_name": "HBoxModel",
          "model_module_version": "1.5.0",
          "state": {
            "_dom_classes": [],
            "_model_module": "@jupyter-widgets/controls",
            "_model_module_version": "1.5.0",
            "_model_name": "HBoxModel",
            "_view_count": null,
            "_view_module": "@jupyter-widgets/controls",
            "_view_module_version": "1.5.0",
            "_view_name": "HBoxView",
            "box_style": "",
            "children": [
              "IPY_MODEL_613e059d3eca47448a50b35a0bb3c18b",
              "IPY_MODEL_e6d8aa7f956d4c2595b201fec7a65b6f",
              "IPY_MODEL_c97d1fbf133f4193a8268e724064be27"
            ],
            "layout": "IPY_MODEL_88ef1ed23a93448882f06f82fc0afc42"
          }
        },
        "613e059d3eca47448a50b35a0bb3c18b": {
          "model_module": "@jupyter-widgets/controls",
          "model_name": "HTMLModel",
          "model_module_version": "1.5.0",
          "state": {
            "_dom_classes": [],
            "_model_module": "@jupyter-widgets/controls",
            "_model_module_version": "1.5.0",
            "_model_name": "HTMLModel",
            "_view_count": null,
            "_view_module": "@jupyter-widgets/controls",
            "_view_module_version": "1.5.0",
            "_view_name": "HTMLView",
            "description": "",
            "description_tooltip": null,
            "layout": "IPY_MODEL_dbb34e25555e465281bcf2e5c4b4968a",
            "placeholder": "​",
            "style": "IPY_MODEL_108f88333f424ca68d3bcd807acbc22b",
            "value": "Shuffling /root/tensorflow_datasets/imdb_reviews/plain_text/1.0.0.incompleteUMRMCJ/imdb_reviews-train.tfrecord*...:  51%"
          }
        },
        "e6d8aa7f956d4c2595b201fec7a65b6f": {
          "model_module": "@jupyter-widgets/controls",
          "model_name": "FloatProgressModel",
          "model_module_version": "1.5.0",
          "state": {
            "_dom_classes": [],
            "_model_module": "@jupyter-widgets/controls",
            "_model_module_version": "1.5.0",
            "_model_name": "FloatProgressModel",
            "_view_count": null,
            "_view_module": "@jupyter-widgets/controls",
            "_view_module_version": "1.5.0",
            "_view_name": "ProgressView",
            "bar_style": "",
            "description": "",
            "description_tooltip": null,
            "layout": "IPY_MODEL_ba0e1d12ca8e431d80d455a99c435fb6",
            "max": 25000,
            "min": 0,
            "orientation": "horizontal",
            "style": "IPY_MODEL_87de1cd67914466cb99daadb8a9a6c3f",
            "value": 25000
          }
        },
        "c97d1fbf133f4193a8268e724064be27": {
          "model_module": "@jupyter-widgets/controls",
          "model_name": "HTMLModel",
          "model_module_version": "1.5.0",
          "state": {
            "_dom_classes": [],
            "_model_module": "@jupyter-widgets/controls",
            "_model_module_version": "1.5.0",
            "_model_name": "HTMLModel",
            "_view_count": null,
            "_view_module": "@jupyter-widgets/controls",
            "_view_module_version": "1.5.0",
            "_view_name": "HTMLView",
            "description": "",
            "description_tooltip": null,
            "layout": "IPY_MODEL_ddb0c22b783342deb3b60f372ed38217",
            "placeholder": "​",
            "style": "IPY_MODEL_efd4fa11258e4015909b62a53e17ae86",
            "value": " 12701/25000 [00:00&lt;00:00, 126993.17 examples/s]"
          }
        },
        "88ef1ed23a93448882f06f82fc0afc42": {
          "model_module": "@jupyter-widgets/base",
          "model_name": "LayoutModel",
          "model_module_version": "1.2.0",
          "state": {
            "_model_module": "@jupyter-widgets/base",
            "_model_module_version": "1.2.0",
            "_model_name": "LayoutModel",
            "_view_count": null,
            "_view_module": "@jupyter-widgets/base",
            "_view_module_version": "1.2.0",
            "_view_name": "LayoutView",
            "align_content": null,
            "align_items": null,
            "align_self": null,
            "border": null,
            "bottom": null,
            "display": null,
            "flex": null,
            "flex_flow": null,
            "grid_area": null,
            "grid_auto_columns": null,
            "grid_auto_flow": null,
            "grid_auto_rows": null,
            "grid_column": null,
            "grid_gap": null,
            "grid_row": null,
            "grid_template_areas": null,
            "grid_template_columns": null,
            "grid_template_rows": null,
            "height": null,
            "justify_content": null,
            "justify_items": null,
            "left": null,
            "margin": null,
            "max_height": null,
            "max_width": null,
            "min_height": null,
            "min_width": null,
            "object_fit": null,
            "object_position": null,
            "order": null,
            "overflow": null,
            "overflow_x": null,
            "overflow_y": null,
            "padding": null,
            "right": null,
            "top": null,
            "visibility": "hidden",
            "width": null
          }
        },
        "dbb34e25555e465281bcf2e5c4b4968a": {
          "model_module": "@jupyter-widgets/base",
          "model_name": "LayoutModel",
          "model_module_version": "1.2.0",
          "state": {
            "_model_module": "@jupyter-widgets/base",
            "_model_module_version": "1.2.0",
            "_model_name": "LayoutModel",
            "_view_count": null,
            "_view_module": "@jupyter-widgets/base",
            "_view_module_version": "1.2.0",
            "_view_name": "LayoutView",
            "align_content": null,
            "align_items": null,
            "align_self": null,
            "border": null,
            "bottom": null,
            "display": null,
            "flex": null,
            "flex_flow": null,
            "grid_area": null,
            "grid_auto_columns": null,
            "grid_auto_flow": null,
            "grid_auto_rows": null,
            "grid_column": null,
            "grid_gap": null,
            "grid_row": null,
            "grid_template_areas": null,
            "grid_template_columns": null,
            "grid_template_rows": null,
            "height": null,
            "justify_content": null,
            "justify_items": null,
            "left": null,
            "margin": null,
            "max_height": null,
            "max_width": null,
            "min_height": null,
            "min_width": null,
            "object_fit": null,
            "object_position": null,
            "order": null,
            "overflow": null,
            "overflow_x": null,
            "overflow_y": null,
            "padding": null,
            "right": null,
            "top": null,
            "visibility": null,
            "width": null
          }
        },
        "108f88333f424ca68d3bcd807acbc22b": {
          "model_module": "@jupyter-widgets/controls",
          "model_name": "DescriptionStyleModel",
          "model_module_version": "1.5.0",
          "state": {
            "_model_module": "@jupyter-widgets/controls",
            "_model_module_version": "1.5.0",
            "_model_name": "DescriptionStyleModel",
            "_view_count": null,
            "_view_module": "@jupyter-widgets/base",
            "_view_module_version": "1.2.0",
            "_view_name": "StyleView",
            "description_width": ""
          }
        },
        "ba0e1d12ca8e431d80d455a99c435fb6": {
          "model_module": "@jupyter-widgets/base",
          "model_name": "LayoutModel",
          "model_module_version": "1.2.0",
          "state": {
            "_model_module": "@jupyter-widgets/base",
            "_model_module_version": "1.2.0",
            "_model_name": "LayoutModel",
            "_view_count": null,
            "_view_module": "@jupyter-widgets/base",
            "_view_module_version": "1.2.0",
            "_view_name": "LayoutView",
            "align_content": null,
            "align_items": null,
            "align_self": null,
            "border": null,
            "bottom": null,
            "display": null,
            "flex": null,
            "flex_flow": null,
            "grid_area": null,
            "grid_auto_columns": null,
            "grid_auto_flow": null,
            "grid_auto_rows": null,
            "grid_column": null,
            "grid_gap": null,
            "grid_row": null,
            "grid_template_areas": null,
            "grid_template_columns": null,
            "grid_template_rows": null,
            "height": null,
            "justify_content": null,
            "justify_items": null,
            "left": null,
            "margin": null,
            "max_height": null,
            "max_width": null,
            "min_height": null,
            "min_width": null,
            "object_fit": null,
            "object_position": null,
            "order": null,
            "overflow": null,
            "overflow_x": null,
            "overflow_y": null,
            "padding": null,
            "right": null,
            "top": null,
            "visibility": null,
            "width": null
          }
        },
        "87de1cd67914466cb99daadb8a9a6c3f": {
          "model_module": "@jupyter-widgets/controls",
          "model_name": "ProgressStyleModel",
          "model_module_version": "1.5.0",
          "state": {
            "_model_module": "@jupyter-widgets/controls",
            "_model_module_version": "1.5.0",
            "_model_name": "ProgressStyleModel",
            "_view_count": null,
            "_view_module": "@jupyter-widgets/base",
            "_view_module_version": "1.2.0",
            "_view_name": "StyleView",
            "bar_color": null,
            "description_width": ""
          }
        },
        "ddb0c22b783342deb3b60f372ed38217": {
          "model_module": "@jupyter-widgets/base",
          "model_name": "LayoutModel",
          "model_module_version": "1.2.0",
          "state": {
            "_model_module": "@jupyter-widgets/base",
            "_model_module_version": "1.2.0",
            "_model_name": "LayoutModel",
            "_view_count": null,
            "_view_module": "@jupyter-widgets/base",
            "_view_module_version": "1.2.0",
            "_view_name": "LayoutView",
            "align_content": null,
            "align_items": null,
            "align_self": null,
            "border": null,
            "bottom": null,
            "display": null,
            "flex": null,
            "flex_flow": null,
            "grid_area": null,
            "grid_auto_columns": null,
            "grid_auto_flow": null,
            "grid_auto_rows": null,
            "grid_column": null,
            "grid_gap": null,
            "grid_row": null,
            "grid_template_areas": null,
            "grid_template_columns": null,
            "grid_template_rows": null,
            "height": null,
            "justify_content": null,
            "justify_items": null,
            "left": null,
            "margin": null,
            "max_height": null,
            "max_width": null,
            "min_height": null,
            "min_width": null,
            "object_fit": null,
            "object_position": null,
            "order": null,
            "overflow": null,
            "overflow_x": null,
            "overflow_y": null,
            "padding": null,
            "right": null,
            "top": null,
            "visibility": null,
            "width": null
          }
        },
        "efd4fa11258e4015909b62a53e17ae86": {
          "model_module": "@jupyter-widgets/controls",
          "model_name": "DescriptionStyleModel",
          "model_module_version": "1.5.0",
          "state": {
            "_model_module": "@jupyter-widgets/controls",
            "_model_module_version": "1.5.0",
            "_model_name": "DescriptionStyleModel",
            "_view_count": null,
            "_view_module": "@jupyter-widgets/base",
            "_view_module_version": "1.2.0",
            "_view_name": "StyleView",
            "description_width": ""
          }
        },
        "3dbb0eb81e0543949968f6df8210c5ba": {
          "model_module": "@jupyter-widgets/controls",
          "model_name": "HBoxModel",
          "model_module_version": "1.5.0",
          "state": {
            "_dom_classes": [],
            "_model_module": "@jupyter-widgets/controls",
            "_model_module_version": "1.5.0",
            "_model_name": "HBoxModel",
            "_view_count": null,
            "_view_module": "@jupyter-widgets/controls",
            "_view_module_version": "1.5.0",
            "_view_name": "HBoxView",
            "box_style": "",
            "children": [
              "IPY_MODEL_4a17862a597e4d229b6df2ba9729ab8c",
              "IPY_MODEL_3ed43821f60a43cc865fe34f44d2b16d",
              "IPY_MODEL_7e923887c8d4485088f8970dc8249c77"
            ],
            "layout": "IPY_MODEL_0881458b8ded417b88a314310294597b"
          }
        },
        "4a17862a597e4d229b6df2ba9729ab8c": {
          "model_module": "@jupyter-widgets/controls",
          "model_name": "HTMLModel",
          "model_module_version": "1.5.0",
          "state": {
            "_dom_classes": [],
            "_model_module": "@jupyter-widgets/controls",
            "_model_module_version": "1.5.0",
            "_model_name": "HTMLModel",
            "_view_count": null,
            "_view_module": "@jupyter-widgets/controls",
            "_view_module_version": "1.5.0",
            "_view_name": "HTMLView",
            "description": "",
            "description_tooltip": null,
            "layout": "IPY_MODEL_d1509325bf6e41bfb92dcf8aaf3eb8a5",
            "placeholder": "​",
            "style": "IPY_MODEL_f4dba9712dea4ff28b8aaa574d7c8768",
            "value": "Generating test examples...: 100%"
          }
        },
        "3ed43821f60a43cc865fe34f44d2b16d": {
          "model_module": "@jupyter-widgets/controls",
          "model_name": "FloatProgressModel",
          "model_module_version": "1.5.0",
          "state": {
            "_dom_classes": [],
            "_model_module": "@jupyter-widgets/controls",
            "_model_module_version": "1.5.0",
            "_model_name": "FloatProgressModel",
            "_view_count": null,
            "_view_module": "@jupyter-widgets/controls",
            "_view_module_version": "1.5.0",
            "_view_name": "ProgressView",
            "bar_style": "",
            "description": "",
            "description_tooltip": null,
            "layout": "IPY_MODEL_e1899c3af3434f7888820d2966a08453",
            "max": 25000,
            "min": 0,
            "orientation": "horizontal",
            "style": "IPY_MODEL_0d6ea5aa1e4e42bbb87edc95d2da4b19",
            "value": 25000
          }
        },
        "7e923887c8d4485088f8970dc8249c77": {
          "model_module": "@jupyter-widgets/controls",
          "model_name": "HTMLModel",
          "model_module_version": "1.5.0",
          "state": {
            "_dom_classes": [],
            "_model_module": "@jupyter-widgets/controls",
            "_model_module_version": "1.5.0",
            "_model_name": "HTMLModel",
            "_view_count": null,
            "_view_module": "@jupyter-widgets/controls",
            "_view_module_version": "1.5.0",
            "_view_name": "HTMLView",
            "description": "",
            "description_tooltip": null,
            "layout": "IPY_MODEL_a7b0df28bf5644dc9696f263bfdaf05e",
            "placeholder": "​",
            "style": "IPY_MODEL_99e8c369810c4bf2b311cd32aa4a51b7",
            "value": " 24913/25000 [00:05&lt;00:00, 3638.12 examples/s]"
          }
        },
        "0881458b8ded417b88a314310294597b": {
          "model_module": "@jupyter-widgets/base",
          "model_name": "LayoutModel",
          "model_module_version": "1.2.0",
          "state": {
            "_model_module": "@jupyter-widgets/base",
            "_model_module_version": "1.2.0",
            "_model_name": "LayoutModel",
            "_view_count": null,
            "_view_module": "@jupyter-widgets/base",
            "_view_module_version": "1.2.0",
            "_view_name": "LayoutView",
            "align_content": null,
            "align_items": null,
            "align_self": null,
            "border": null,
            "bottom": null,
            "display": null,
            "flex": null,
            "flex_flow": null,
            "grid_area": null,
            "grid_auto_columns": null,
            "grid_auto_flow": null,
            "grid_auto_rows": null,
            "grid_column": null,
            "grid_gap": null,
            "grid_row": null,
            "grid_template_areas": null,
            "grid_template_columns": null,
            "grid_template_rows": null,
            "height": null,
            "justify_content": null,
            "justify_items": null,
            "left": null,
            "margin": null,
            "max_height": null,
            "max_width": null,
            "min_height": null,
            "min_width": null,
            "object_fit": null,
            "object_position": null,
            "order": null,
            "overflow": null,
            "overflow_x": null,
            "overflow_y": null,
            "padding": null,
            "right": null,
            "top": null,
            "visibility": "hidden",
            "width": null
          }
        },
        "d1509325bf6e41bfb92dcf8aaf3eb8a5": {
          "model_module": "@jupyter-widgets/base",
          "model_name": "LayoutModel",
          "model_module_version": "1.2.0",
          "state": {
            "_model_module": "@jupyter-widgets/base",
            "_model_module_version": "1.2.0",
            "_model_name": "LayoutModel",
            "_view_count": null,
            "_view_module": "@jupyter-widgets/base",
            "_view_module_version": "1.2.0",
            "_view_name": "LayoutView",
            "align_content": null,
            "align_items": null,
            "align_self": null,
            "border": null,
            "bottom": null,
            "display": null,
            "flex": null,
            "flex_flow": null,
            "grid_area": null,
            "grid_auto_columns": null,
            "grid_auto_flow": null,
            "grid_auto_rows": null,
            "grid_column": null,
            "grid_gap": null,
            "grid_row": null,
            "grid_template_areas": null,
            "grid_template_columns": null,
            "grid_template_rows": null,
            "height": null,
            "justify_content": null,
            "justify_items": null,
            "left": null,
            "margin": null,
            "max_height": null,
            "max_width": null,
            "min_height": null,
            "min_width": null,
            "object_fit": null,
            "object_position": null,
            "order": null,
            "overflow": null,
            "overflow_x": null,
            "overflow_y": null,
            "padding": null,
            "right": null,
            "top": null,
            "visibility": null,
            "width": null
          }
        },
        "f4dba9712dea4ff28b8aaa574d7c8768": {
          "model_module": "@jupyter-widgets/controls",
          "model_name": "DescriptionStyleModel",
          "model_module_version": "1.5.0",
          "state": {
            "_model_module": "@jupyter-widgets/controls",
            "_model_module_version": "1.5.0",
            "_model_name": "DescriptionStyleModel",
            "_view_count": null,
            "_view_module": "@jupyter-widgets/base",
            "_view_module_version": "1.2.0",
            "_view_name": "StyleView",
            "description_width": ""
          }
        },
        "e1899c3af3434f7888820d2966a08453": {
          "model_module": "@jupyter-widgets/base",
          "model_name": "LayoutModel",
          "model_module_version": "1.2.0",
          "state": {
            "_model_module": "@jupyter-widgets/base",
            "_model_module_version": "1.2.0",
            "_model_name": "LayoutModel",
            "_view_count": null,
            "_view_module": "@jupyter-widgets/base",
            "_view_module_version": "1.2.0",
            "_view_name": "LayoutView",
            "align_content": null,
            "align_items": null,
            "align_self": null,
            "border": null,
            "bottom": null,
            "display": null,
            "flex": null,
            "flex_flow": null,
            "grid_area": null,
            "grid_auto_columns": null,
            "grid_auto_flow": null,
            "grid_auto_rows": null,
            "grid_column": null,
            "grid_gap": null,
            "grid_row": null,
            "grid_template_areas": null,
            "grid_template_columns": null,
            "grid_template_rows": null,
            "height": null,
            "justify_content": null,
            "justify_items": null,
            "left": null,
            "margin": null,
            "max_height": null,
            "max_width": null,
            "min_height": null,
            "min_width": null,
            "object_fit": null,
            "object_position": null,
            "order": null,
            "overflow": null,
            "overflow_x": null,
            "overflow_y": null,
            "padding": null,
            "right": null,
            "top": null,
            "visibility": null,
            "width": null
          }
        },
        "0d6ea5aa1e4e42bbb87edc95d2da4b19": {
          "model_module": "@jupyter-widgets/controls",
          "model_name": "ProgressStyleModel",
          "model_module_version": "1.5.0",
          "state": {
            "_model_module": "@jupyter-widgets/controls",
            "_model_module_version": "1.5.0",
            "_model_name": "ProgressStyleModel",
            "_view_count": null,
            "_view_module": "@jupyter-widgets/base",
            "_view_module_version": "1.2.0",
            "_view_name": "StyleView",
            "bar_color": null,
            "description_width": ""
          }
        },
        "a7b0df28bf5644dc9696f263bfdaf05e": {
          "model_module": "@jupyter-widgets/base",
          "model_name": "LayoutModel",
          "model_module_version": "1.2.0",
          "state": {
            "_model_module": "@jupyter-widgets/base",
            "_model_module_version": "1.2.0",
            "_model_name": "LayoutModel",
            "_view_count": null,
            "_view_module": "@jupyter-widgets/base",
            "_view_module_version": "1.2.0",
            "_view_name": "LayoutView",
            "align_content": null,
            "align_items": null,
            "align_self": null,
            "border": null,
            "bottom": null,
            "display": null,
            "flex": null,
            "flex_flow": null,
            "grid_area": null,
            "grid_auto_columns": null,
            "grid_auto_flow": null,
            "grid_auto_rows": null,
            "grid_column": null,
            "grid_gap": null,
            "grid_row": null,
            "grid_template_areas": null,
            "grid_template_columns": null,
            "grid_template_rows": null,
            "height": null,
            "justify_content": null,
            "justify_items": null,
            "left": null,
            "margin": null,
            "max_height": null,
            "max_width": null,
            "min_height": null,
            "min_width": null,
            "object_fit": null,
            "object_position": null,
            "order": null,
            "overflow": null,
            "overflow_x": null,
            "overflow_y": null,
            "padding": null,
            "right": null,
            "top": null,
            "visibility": null,
            "width": null
          }
        },
        "99e8c369810c4bf2b311cd32aa4a51b7": {
          "model_module": "@jupyter-widgets/controls",
          "model_name": "DescriptionStyleModel",
          "model_module_version": "1.5.0",
          "state": {
            "_model_module": "@jupyter-widgets/controls",
            "_model_module_version": "1.5.0",
            "_model_name": "DescriptionStyleModel",
            "_view_count": null,
            "_view_module": "@jupyter-widgets/base",
            "_view_module_version": "1.2.0",
            "_view_name": "StyleView",
            "description_width": ""
          }
        },
        "0bf680288aaa4e22a1ef1463b76e92e8": {
          "model_module": "@jupyter-widgets/controls",
          "model_name": "HBoxModel",
          "model_module_version": "1.5.0",
          "state": {
            "_dom_classes": [],
            "_model_module": "@jupyter-widgets/controls",
            "_model_module_version": "1.5.0",
            "_model_name": "HBoxModel",
            "_view_count": null,
            "_view_module": "@jupyter-widgets/controls",
            "_view_module_version": "1.5.0",
            "_view_name": "HBoxView",
            "box_style": "",
            "children": [
              "IPY_MODEL_cba6df663ce8456cb34fd5c6f84be9cc",
              "IPY_MODEL_5f4af54c365b4b8690abb6be79b20ef5",
              "IPY_MODEL_feb31a843f0a45f6b941ca10776e4442"
            ],
            "layout": "IPY_MODEL_14d4955156144b9da88610a7d1a84cf1"
          }
        },
        "cba6df663ce8456cb34fd5c6f84be9cc": {
          "model_module": "@jupyter-widgets/controls",
          "model_name": "HTMLModel",
          "model_module_version": "1.5.0",
          "state": {
            "_dom_classes": [],
            "_model_module": "@jupyter-widgets/controls",
            "_model_module_version": "1.5.0",
            "_model_name": "HTMLModel",
            "_view_count": null,
            "_view_module": "@jupyter-widgets/controls",
            "_view_module_version": "1.5.0",
            "_view_name": "HTMLView",
            "description": "",
            "description_tooltip": null,
            "layout": "IPY_MODEL_c36a6ee748e64a1a9c6a0d0e387d2d02",
            "placeholder": "​",
            "style": "IPY_MODEL_e8903433177546f2869f04f1b27d5845",
            "value": "Shuffling /root/tensorflow_datasets/imdb_reviews/plain_text/1.0.0.incompleteUMRMCJ/imdb_reviews-test.tfrecord*...:  60%"
          }
        },
        "5f4af54c365b4b8690abb6be79b20ef5": {
          "model_module": "@jupyter-widgets/controls",
          "model_name": "FloatProgressModel",
          "model_module_version": "1.5.0",
          "state": {
            "_dom_classes": [],
            "_model_module": "@jupyter-widgets/controls",
            "_model_module_version": "1.5.0",
            "_model_name": "FloatProgressModel",
            "_view_count": null,
            "_view_module": "@jupyter-widgets/controls",
            "_view_module_version": "1.5.0",
            "_view_name": "ProgressView",
            "bar_style": "",
            "description": "",
            "description_tooltip": null,
            "layout": "IPY_MODEL_97eb8e4c262d485bbb91d200b5aea562",
            "max": 25000,
            "min": 0,
            "orientation": "horizontal",
            "style": "IPY_MODEL_742c6ad967d6467a975b2c058681c21b",
            "value": 25000
          }
        },
        "feb31a843f0a45f6b941ca10776e4442": {
          "model_module": "@jupyter-widgets/controls",
          "model_name": "HTMLModel",
          "model_module_version": "1.5.0",
          "state": {
            "_dom_classes": [],
            "_model_module": "@jupyter-widgets/controls",
            "_model_module_version": "1.5.0",
            "_model_name": "HTMLModel",
            "_view_count": null,
            "_view_module": "@jupyter-widgets/controls",
            "_view_module_version": "1.5.0",
            "_view_name": "HTMLView",
            "description": "",
            "description_tooltip": null,
            "layout": "IPY_MODEL_e7ab98b60ce9441eacf4302475947dc0",
            "placeholder": "​",
            "style": "IPY_MODEL_8044c4103e564a12bb63494cf1a500fc",
            "value": " 14950/25000 [00:00&lt;00:00, 149481.97 examples/s]"
          }
        },
        "14d4955156144b9da88610a7d1a84cf1": {
          "model_module": "@jupyter-widgets/base",
          "model_name": "LayoutModel",
          "model_module_version": "1.2.0",
          "state": {
            "_model_module": "@jupyter-widgets/base",
            "_model_module_version": "1.2.0",
            "_model_name": "LayoutModel",
            "_view_count": null,
            "_view_module": "@jupyter-widgets/base",
            "_view_module_version": "1.2.0",
            "_view_name": "LayoutView",
            "align_content": null,
            "align_items": null,
            "align_self": null,
            "border": null,
            "bottom": null,
            "display": null,
            "flex": null,
            "flex_flow": null,
            "grid_area": null,
            "grid_auto_columns": null,
            "grid_auto_flow": null,
            "grid_auto_rows": null,
            "grid_column": null,
            "grid_gap": null,
            "grid_row": null,
            "grid_template_areas": null,
            "grid_template_columns": null,
            "grid_template_rows": null,
            "height": null,
            "justify_content": null,
            "justify_items": null,
            "left": null,
            "margin": null,
            "max_height": null,
            "max_width": null,
            "min_height": null,
            "min_width": null,
            "object_fit": null,
            "object_position": null,
            "order": null,
            "overflow": null,
            "overflow_x": null,
            "overflow_y": null,
            "padding": null,
            "right": null,
            "top": null,
            "visibility": "hidden",
            "width": null
          }
        },
        "c36a6ee748e64a1a9c6a0d0e387d2d02": {
          "model_module": "@jupyter-widgets/base",
          "model_name": "LayoutModel",
          "model_module_version": "1.2.0",
          "state": {
            "_model_module": "@jupyter-widgets/base",
            "_model_module_version": "1.2.0",
            "_model_name": "LayoutModel",
            "_view_count": null,
            "_view_module": "@jupyter-widgets/base",
            "_view_module_version": "1.2.0",
            "_view_name": "LayoutView",
            "align_content": null,
            "align_items": null,
            "align_self": null,
            "border": null,
            "bottom": null,
            "display": null,
            "flex": null,
            "flex_flow": null,
            "grid_area": null,
            "grid_auto_columns": null,
            "grid_auto_flow": null,
            "grid_auto_rows": null,
            "grid_column": null,
            "grid_gap": null,
            "grid_row": null,
            "grid_template_areas": null,
            "grid_template_columns": null,
            "grid_template_rows": null,
            "height": null,
            "justify_content": null,
            "justify_items": null,
            "left": null,
            "margin": null,
            "max_height": null,
            "max_width": null,
            "min_height": null,
            "min_width": null,
            "object_fit": null,
            "object_position": null,
            "order": null,
            "overflow": null,
            "overflow_x": null,
            "overflow_y": null,
            "padding": null,
            "right": null,
            "top": null,
            "visibility": null,
            "width": null
          }
        },
        "e8903433177546f2869f04f1b27d5845": {
          "model_module": "@jupyter-widgets/controls",
          "model_name": "DescriptionStyleModel",
          "model_module_version": "1.5.0",
          "state": {
            "_model_module": "@jupyter-widgets/controls",
            "_model_module_version": "1.5.0",
            "_model_name": "DescriptionStyleModel",
            "_view_count": null,
            "_view_module": "@jupyter-widgets/base",
            "_view_module_version": "1.2.0",
            "_view_name": "StyleView",
            "description_width": ""
          }
        },
        "97eb8e4c262d485bbb91d200b5aea562": {
          "model_module": "@jupyter-widgets/base",
          "model_name": "LayoutModel",
          "model_module_version": "1.2.0",
          "state": {
            "_model_module": "@jupyter-widgets/base",
            "_model_module_version": "1.2.0",
            "_model_name": "LayoutModel",
            "_view_count": null,
            "_view_module": "@jupyter-widgets/base",
            "_view_module_version": "1.2.0",
            "_view_name": "LayoutView",
            "align_content": null,
            "align_items": null,
            "align_self": null,
            "border": null,
            "bottom": null,
            "display": null,
            "flex": null,
            "flex_flow": null,
            "grid_area": null,
            "grid_auto_columns": null,
            "grid_auto_flow": null,
            "grid_auto_rows": null,
            "grid_column": null,
            "grid_gap": null,
            "grid_row": null,
            "grid_template_areas": null,
            "grid_template_columns": null,
            "grid_template_rows": null,
            "height": null,
            "justify_content": null,
            "justify_items": null,
            "left": null,
            "margin": null,
            "max_height": null,
            "max_width": null,
            "min_height": null,
            "min_width": null,
            "object_fit": null,
            "object_position": null,
            "order": null,
            "overflow": null,
            "overflow_x": null,
            "overflow_y": null,
            "padding": null,
            "right": null,
            "top": null,
            "visibility": null,
            "width": null
          }
        },
        "742c6ad967d6467a975b2c058681c21b": {
          "model_module": "@jupyter-widgets/controls",
          "model_name": "ProgressStyleModel",
          "model_module_version": "1.5.0",
          "state": {
            "_model_module": "@jupyter-widgets/controls",
            "_model_module_version": "1.5.0",
            "_model_name": "ProgressStyleModel",
            "_view_count": null,
            "_view_module": "@jupyter-widgets/base",
            "_view_module_version": "1.2.0",
            "_view_name": "StyleView",
            "bar_color": null,
            "description_width": ""
          }
        },
        "e7ab98b60ce9441eacf4302475947dc0": {
          "model_module": "@jupyter-widgets/base",
          "model_name": "LayoutModel",
          "model_module_version": "1.2.0",
          "state": {
            "_model_module": "@jupyter-widgets/base",
            "_model_module_version": "1.2.0",
            "_model_name": "LayoutModel",
            "_view_count": null,
            "_view_module": "@jupyter-widgets/base",
            "_view_module_version": "1.2.0",
            "_view_name": "LayoutView",
            "align_content": null,
            "align_items": null,
            "align_self": null,
            "border": null,
            "bottom": null,
            "display": null,
            "flex": null,
            "flex_flow": null,
            "grid_area": null,
            "grid_auto_columns": null,
            "grid_auto_flow": null,
            "grid_auto_rows": null,
            "grid_column": null,
            "grid_gap": null,
            "grid_row": null,
            "grid_template_areas": null,
            "grid_template_columns": null,
            "grid_template_rows": null,
            "height": null,
            "justify_content": null,
            "justify_items": null,
            "left": null,
            "margin": null,
            "max_height": null,
            "max_width": null,
            "min_height": null,
            "min_width": null,
            "object_fit": null,
            "object_position": null,
            "order": null,
            "overflow": null,
            "overflow_x": null,
            "overflow_y": null,
            "padding": null,
            "right": null,
            "top": null,
            "visibility": null,
            "width": null
          }
        },
        "8044c4103e564a12bb63494cf1a500fc": {
          "model_module": "@jupyter-widgets/controls",
          "model_name": "DescriptionStyleModel",
          "model_module_version": "1.5.0",
          "state": {
            "_model_module": "@jupyter-widgets/controls",
            "_model_module_version": "1.5.0",
            "_model_name": "DescriptionStyleModel",
            "_view_count": null,
            "_view_module": "@jupyter-widgets/base",
            "_view_module_version": "1.2.0",
            "_view_name": "StyleView",
            "description_width": ""
          }
        },
        "b5da04df59ae4250a59276230ba18447": {
          "model_module": "@jupyter-widgets/controls",
          "model_name": "HBoxModel",
          "model_module_version": "1.5.0",
          "state": {
            "_dom_classes": [],
            "_model_module": "@jupyter-widgets/controls",
            "_model_module_version": "1.5.0",
            "_model_name": "HBoxModel",
            "_view_count": null,
            "_view_module": "@jupyter-widgets/controls",
            "_view_module_version": "1.5.0",
            "_view_name": "HBoxView",
            "box_style": "",
            "children": [
              "IPY_MODEL_78583958c5b740eb94f90bad2f9e9e54",
              "IPY_MODEL_0f2b309bd2814e27848f808b6fb85ad1",
              "IPY_MODEL_0045e4aabc1e4255a9fe68dfce6d5a78"
            ],
            "layout": "IPY_MODEL_f8624d7ba22f484db3e00bf6c7111277"
          }
        },
        "78583958c5b740eb94f90bad2f9e9e54": {
          "model_module": "@jupyter-widgets/controls",
          "model_name": "HTMLModel",
          "model_module_version": "1.5.0",
          "state": {
            "_dom_classes": [],
            "_model_module": "@jupyter-widgets/controls",
            "_model_module_version": "1.5.0",
            "_model_name": "HTMLModel",
            "_view_count": null,
            "_view_module": "@jupyter-widgets/controls",
            "_view_module_version": "1.5.0",
            "_view_name": "HTMLView",
            "description": "",
            "description_tooltip": null,
            "layout": "IPY_MODEL_90f1f5e9b65340fab3887a72e2ed2cb6",
            "placeholder": "​",
            "style": "IPY_MODEL_e4c7f6eb8f2645bcbf922a0e9309467d",
            "value": "Generating unsupervised examples...:  99%"
          }
        },
        "0f2b309bd2814e27848f808b6fb85ad1": {
          "model_module": "@jupyter-widgets/controls",
          "model_name": "FloatProgressModel",
          "model_module_version": "1.5.0",
          "state": {
            "_dom_classes": [],
            "_model_module": "@jupyter-widgets/controls",
            "_model_module_version": "1.5.0",
            "_model_name": "FloatProgressModel",
            "_view_count": null,
            "_view_module": "@jupyter-widgets/controls",
            "_view_module_version": "1.5.0",
            "_view_name": "ProgressView",
            "bar_style": "",
            "description": "",
            "description_tooltip": null,
            "layout": "IPY_MODEL_190d05f3b2d249008054fb105f694009",
            "max": 50000,
            "min": 0,
            "orientation": "horizontal",
            "style": "IPY_MODEL_0a3fefdd648e49a7aa5878ac69c421b1",
            "value": 50000
          }
        },
        "0045e4aabc1e4255a9fe68dfce6d5a78": {
          "model_module": "@jupyter-widgets/controls",
          "model_name": "HTMLModel",
          "model_module_version": "1.5.0",
          "state": {
            "_dom_classes": [],
            "_model_module": "@jupyter-widgets/controls",
            "_model_module_version": "1.5.0",
            "_model_name": "HTMLModel",
            "_view_count": null,
            "_view_module": "@jupyter-widgets/controls",
            "_view_module_version": "1.5.0",
            "_view_name": "HTMLView",
            "description": "",
            "description_tooltip": null,
            "layout": "IPY_MODEL_38e11783eb194c28816e1efbbb55338d",
            "placeholder": "​",
            "style": "IPY_MODEL_2a101404665540cca92ecc8da89aa785",
            "value": " 49619/50000 [00:15&lt;00:00, 5315.95 examples/s]"
          }
        },
        "f8624d7ba22f484db3e00bf6c7111277": {
          "model_module": "@jupyter-widgets/base",
          "model_name": "LayoutModel",
          "model_module_version": "1.2.0",
          "state": {
            "_model_module": "@jupyter-widgets/base",
            "_model_module_version": "1.2.0",
            "_model_name": "LayoutModel",
            "_view_count": null,
            "_view_module": "@jupyter-widgets/base",
            "_view_module_version": "1.2.0",
            "_view_name": "LayoutView",
            "align_content": null,
            "align_items": null,
            "align_self": null,
            "border": null,
            "bottom": null,
            "display": null,
            "flex": null,
            "flex_flow": null,
            "grid_area": null,
            "grid_auto_columns": null,
            "grid_auto_flow": null,
            "grid_auto_rows": null,
            "grid_column": null,
            "grid_gap": null,
            "grid_row": null,
            "grid_template_areas": null,
            "grid_template_columns": null,
            "grid_template_rows": null,
            "height": null,
            "justify_content": null,
            "justify_items": null,
            "left": null,
            "margin": null,
            "max_height": null,
            "max_width": null,
            "min_height": null,
            "min_width": null,
            "object_fit": null,
            "object_position": null,
            "order": null,
            "overflow": null,
            "overflow_x": null,
            "overflow_y": null,
            "padding": null,
            "right": null,
            "top": null,
            "visibility": "hidden",
            "width": null
          }
        },
        "90f1f5e9b65340fab3887a72e2ed2cb6": {
          "model_module": "@jupyter-widgets/base",
          "model_name": "LayoutModel",
          "model_module_version": "1.2.0",
          "state": {
            "_model_module": "@jupyter-widgets/base",
            "_model_module_version": "1.2.0",
            "_model_name": "LayoutModel",
            "_view_count": null,
            "_view_module": "@jupyter-widgets/base",
            "_view_module_version": "1.2.0",
            "_view_name": "LayoutView",
            "align_content": null,
            "align_items": null,
            "align_self": null,
            "border": null,
            "bottom": null,
            "display": null,
            "flex": null,
            "flex_flow": null,
            "grid_area": null,
            "grid_auto_columns": null,
            "grid_auto_flow": null,
            "grid_auto_rows": null,
            "grid_column": null,
            "grid_gap": null,
            "grid_row": null,
            "grid_template_areas": null,
            "grid_template_columns": null,
            "grid_template_rows": null,
            "height": null,
            "justify_content": null,
            "justify_items": null,
            "left": null,
            "margin": null,
            "max_height": null,
            "max_width": null,
            "min_height": null,
            "min_width": null,
            "object_fit": null,
            "object_position": null,
            "order": null,
            "overflow": null,
            "overflow_x": null,
            "overflow_y": null,
            "padding": null,
            "right": null,
            "top": null,
            "visibility": null,
            "width": null
          }
        },
        "e4c7f6eb8f2645bcbf922a0e9309467d": {
          "model_module": "@jupyter-widgets/controls",
          "model_name": "DescriptionStyleModel",
          "model_module_version": "1.5.0",
          "state": {
            "_model_module": "@jupyter-widgets/controls",
            "_model_module_version": "1.5.0",
            "_model_name": "DescriptionStyleModel",
            "_view_count": null,
            "_view_module": "@jupyter-widgets/base",
            "_view_module_version": "1.2.0",
            "_view_name": "StyleView",
            "description_width": ""
          }
        },
        "190d05f3b2d249008054fb105f694009": {
          "model_module": "@jupyter-widgets/base",
          "model_name": "LayoutModel",
          "model_module_version": "1.2.0",
          "state": {
            "_model_module": "@jupyter-widgets/base",
            "_model_module_version": "1.2.0",
            "_model_name": "LayoutModel",
            "_view_count": null,
            "_view_module": "@jupyter-widgets/base",
            "_view_module_version": "1.2.0",
            "_view_name": "LayoutView",
            "align_content": null,
            "align_items": null,
            "align_self": null,
            "border": null,
            "bottom": null,
            "display": null,
            "flex": null,
            "flex_flow": null,
            "grid_area": null,
            "grid_auto_columns": null,
            "grid_auto_flow": null,
            "grid_auto_rows": null,
            "grid_column": null,
            "grid_gap": null,
            "grid_row": null,
            "grid_template_areas": null,
            "grid_template_columns": null,
            "grid_template_rows": null,
            "height": null,
            "justify_content": null,
            "justify_items": null,
            "left": null,
            "margin": null,
            "max_height": null,
            "max_width": null,
            "min_height": null,
            "min_width": null,
            "object_fit": null,
            "object_position": null,
            "order": null,
            "overflow": null,
            "overflow_x": null,
            "overflow_y": null,
            "padding": null,
            "right": null,
            "top": null,
            "visibility": null,
            "width": null
          }
        },
        "0a3fefdd648e49a7aa5878ac69c421b1": {
          "model_module": "@jupyter-widgets/controls",
          "model_name": "ProgressStyleModel",
          "model_module_version": "1.5.0",
          "state": {
            "_model_module": "@jupyter-widgets/controls",
            "_model_module_version": "1.5.0",
            "_model_name": "ProgressStyleModel",
            "_view_count": null,
            "_view_module": "@jupyter-widgets/base",
            "_view_module_version": "1.2.0",
            "_view_name": "StyleView",
            "bar_color": null,
            "description_width": ""
          }
        },
        "38e11783eb194c28816e1efbbb55338d": {
          "model_module": "@jupyter-widgets/base",
          "model_name": "LayoutModel",
          "model_module_version": "1.2.0",
          "state": {
            "_model_module": "@jupyter-widgets/base",
            "_model_module_version": "1.2.0",
            "_model_name": "LayoutModel",
            "_view_count": null,
            "_view_module": "@jupyter-widgets/base",
            "_view_module_version": "1.2.0",
            "_view_name": "LayoutView",
            "align_content": null,
            "align_items": null,
            "align_self": null,
            "border": null,
            "bottom": null,
            "display": null,
            "flex": null,
            "flex_flow": null,
            "grid_area": null,
            "grid_auto_columns": null,
            "grid_auto_flow": null,
            "grid_auto_rows": null,
            "grid_column": null,
            "grid_gap": null,
            "grid_row": null,
            "grid_template_areas": null,
            "grid_template_columns": null,
            "grid_template_rows": null,
            "height": null,
            "justify_content": null,
            "justify_items": null,
            "left": null,
            "margin": null,
            "max_height": null,
            "max_width": null,
            "min_height": null,
            "min_width": null,
            "object_fit": null,
            "object_position": null,
            "order": null,
            "overflow": null,
            "overflow_x": null,
            "overflow_y": null,
            "padding": null,
            "right": null,
            "top": null,
            "visibility": null,
            "width": null
          }
        },
        "2a101404665540cca92ecc8da89aa785": {
          "model_module": "@jupyter-widgets/controls",
          "model_name": "DescriptionStyleModel",
          "model_module_version": "1.5.0",
          "state": {
            "_model_module": "@jupyter-widgets/controls",
            "_model_module_version": "1.5.0",
            "_model_name": "DescriptionStyleModel",
            "_view_count": null,
            "_view_module": "@jupyter-widgets/base",
            "_view_module_version": "1.2.0",
            "_view_name": "StyleView",
            "description_width": ""
          }
        },
        "41dfe4a5fbf74fdabe99d269a2cde37a": {
          "model_module": "@jupyter-widgets/controls",
          "model_name": "HBoxModel",
          "model_module_version": "1.5.0",
          "state": {
            "_dom_classes": [],
            "_model_module": "@jupyter-widgets/controls",
            "_model_module_version": "1.5.0",
            "_model_name": "HBoxModel",
            "_view_count": null,
            "_view_module": "@jupyter-widgets/controls",
            "_view_module_version": "1.5.0",
            "_view_name": "HBoxView",
            "box_style": "",
            "children": [
              "IPY_MODEL_eb6f8613a8534bd4b1d1cfce9bd245a7",
              "IPY_MODEL_b06aa0e642b94acdb42a8bc8751a4454",
              "IPY_MODEL_bc80acdfc1a042bfb55b442b0b4f0b91"
            ],
            "layout": "IPY_MODEL_4d773f743d2843c899a18d8120bc54dc"
          }
        },
        "eb6f8613a8534bd4b1d1cfce9bd245a7": {
          "model_module": "@jupyter-widgets/controls",
          "model_name": "HTMLModel",
          "model_module_version": "1.5.0",
          "state": {
            "_dom_classes": [],
            "_model_module": "@jupyter-widgets/controls",
            "_model_module_version": "1.5.0",
            "_model_name": "HTMLModel",
            "_view_count": null,
            "_view_module": "@jupyter-widgets/controls",
            "_view_module_version": "1.5.0",
            "_view_name": "HTMLView",
            "description": "",
            "description_tooltip": null,
            "layout": "IPY_MODEL_c099ed0dc96c4568ad1d478b703ec4f9",
            "placeholder": "​",
            "style": "IPY_MODEL_bae9db8aa5bf43ad8cb12295ce102b58",
            "value": "Shuffling /root/tensorflow_datasets/imdb_reviews/plain_text/1.0.0.incompleteUMRMCJ/imdb_reviews-unsupervised.tfrecord*...:  70%"
          }
        },
        "b06aa0e642b94acdb42a8bc8751a4454": {
          "model_module": "@jupyter-widgets/controls",
          "model_name": "FloatProgressModel",
          "model_module_version": "1.5.0",
          "state": {
            "_dom_classes": [],
            "_model_module": "@jupyter-widgets/controls",
            "_model_module_version": "1.5.0",
            "_model_name": "FloatProgressModel",
            "_view_count": null,
            "_view_module": "@jupyter-widgets/controls",
            "_view_module_version": "1.5.0",
            "_view_name": "ProgressView",
            "bar_style": "",
            "description": "",
            "description_tooltip": null,
            "layout": "IPY_MODEL_8b8b3d4915674682bba5cc5328399cf6",
            "max": 50000,
            "min": 0,
            "orientation": "horizontal",
            "style": "IPY_MODEL_c2539980857247479ad27e6b8001ee0d",
            "value": 50000
          }
        },
        "bc80acdfc1a042bfb55b442b0b4f0b91": {
          "model_module": "@jupyter-widgets/controls",
          "model_name": "HTMLModel",
          "model_module_version": "1.5.0",
          "state": {
            "_dom_classes": [],
            "_model_module": "@jupyter-widgets/controls",
            "_model_module_version": "1.5.0",
            "_model_name": "HTMLModel",
            "_view_count": null,
            "_view_module": "@jupyter-widgets/controls",
            "_view_module_version": "1.5.0",
            "_view_name": "HTMLView",
            "description": "",
            "description_tooltip": null,
            "layout": "IPY_MODEL_d0990f3f32ed48e0a6471489b184cc4e",
            "placeholder": "​",
            "style": "IPY_MODEL_82f4a099fa1a4e7d9ffc7260dca067d4",
            "value": " 34879/50000 [00:00&lt;00:00, 187121.13 examples/s]"
          }
        },
        "4d773f743d2843c899a18d8120bc54dc": {
          "model_module": "@jupyter-widgets/base",
          "model_name": "LayoutModel",
          "model_module_version": "1.2.0",
          "state": {
            "_model_module": "@jupyter-widgets/base",
            "_model_module_version": "1.2.0",
            "_model_name": "LayoutModel",
            "_view_count": null,
            "_view_module": "@jupyter-widgets/base",
            "_view_module_version": "1.2.0",
            "_view_name": "LayoutView",
            "align_content": null,
            "align_items": null,
            "align_self": null,
            "border": null,
            "bottom": null,
            "display": null,
            "flex": null,
            "flex_flow": null,
            "grid_area": null,
            "grid_auto_columns": null,
            "grid_auto_flow": null,
            "grid_auto_rows": null,
            "grid_column": null,
            "grid_gap": null,
            "grid_row": null,
            "grid_template_areas": null,
            "grid_template_columns": null,
            "grid_template_rows": null,
            "height": null,
            "justify_content": null,
            "justify_items": null,
            "left": null,
            "margin": null,
            "max_height": null,
            "max_width": null,
            "min_height": null,
            "min_width": null,
            "object_fit": null,
            "object_position": null,
            "order": null,
            "overflow": null,
            "overflow_x": null,
            "overflow_y": null,
            "padding": null,
            "right": null,
            "top": null,
            "visibility": "hidden",
            "width": null
          }
        },
        "c099ed0dc96c4568ad1d478b703ec4f9": {
          "model_module": "@jupyter-widgets/base",
          "model_name": "LayoutModel",
          "model_module_version": "1.2.0",
          "state": {
            "_model_module": "@jupyter-widgets/base",
            "_model_module_version": "1.2.0",
            "_model_name": "LayoutModel",
            "_view_count": null,
            "_view_module": "@jupyter-widgets/base",
            "_view_module_version": "1.2.0",
            "_view_name": "LayoutView",
            "align_content": null,
            "align_items": null,
            "align_self": null,
            "border": null,
            "bottom": null,
            "display": null,
            "flex": null,
            "flex_flow": null,
            "grid_area": null,
            "grid_auto_columns": null,
            "grid_auto_flow": null,
            "grid_auto_rows": null,
            "grid_column": null,
            "grid_gap": null,
            "grid_row": null,
            "grid_template_areas": null,
            "grid_template_columns": null,
            "grid_template_rows": null,
            "height": null,
            "justify_content": null,
            "justify_items": null,
            "left": null,
            "margin": null,
            "max_height": null,
            "max_width": null,
            "min_height": null,
            "min_width": null,
            "object_fit": null,
            "object_position": null,
            "order": null,
            "overflow": null,
            "overflow_x": null,
            "overflow_y": null,
            "padding": null,
            "right": null,
            "top": null,
            "visibility": null,
            "width": null
          }
        },
        "bae9db8aa5bf43ad8cb12295ce102b58": {
          "model_module": "@jupyter-widgets/controls",
          "model_name": "DescriptionStyleModel",
          "model_module_version": "1.5.0",
          "state": {
            "_model_module": "@jupyter-widgets/controls",
            "_model_module_version": "1.5.0",
            "_model_name": "DescriptionStyleModel",
            "_view_count": null,
            "_view_module": "@jupyter-widgets/base",
            "_view_module_version": "1.2.0",
            "_view_name": "StyleView",
            "description_width": ""
          }
        },
        "8b8b3d4915674682bba5cc5328399cf6": {
          "model_module": "@jupyter-widgets/base",
          "model_name": "LayoutModel",
          "model_module_version": "1.2.0",
          "state": {
            "_model_module": "@jupyter-widgets/base",
            "_model_module_version": "1.2.0",
            "_model_name": "LayoutModel",
            "_view_count": null,
            "_view_module": "@jupyter-widgets/base",
            "_view_module_version": "1.2.0",
            "_view_name": "LayoutView",
            "align_content": null,
            "align_items": null,
            "align_self": null,
            "border": null,
            "bottom": null,
            "display": null,
            "flex": null,
            "flex_flow": null,
            "grid_area": null,
            "grid_auto_columns": null,
            "grid_auto_flow": null,
            "grid_auto_rows": null,
            "grid_column": null,
            "grid_gap": null,
            "grid_row": null,
            "grid_template_areas": null,
            "grid_template_columns": null,
            "grid_template_rows": null,
            "height": null,
            "justify_content": null,
            "justify_items": null,
            "left": null,
            "margin": null,
            "max_height": null,
            "max_width": null,
            "min_height": null,
            "min_width": null,
            "object_fit": null,
            "object_position": null,
            "order": null,
            "overflow": null,
            "overflow_x": null,
            "overflow_y": null,
            "padding": null,
            "right": null,
            "top": null,
            "visibility": null,
            "width": null
          }
        },
        "c2539980857247479ad27e6b8001ee0d": {
          "model_module": "@jupyter-widgets/controls",
          "model_name": "ProgressStyleModel",
          "model_module_version": "1.5.0",
          "state": {
            "_model_module": "@jupyter-widgets/controls",
            "_model_module_version": "1.5.0",
            "_model_name": "ProgressStyleModel",
            "_view_count": null,
            "_view_module": "@jupyter-widgets/base",
            "_view_module_version": "1.2.0",
            "_view_name": "StyleView",
            "bar_color": null,
            "description_width": ""
          }
        },
        "d0990f3f32ed48e0a6471489b184cc4e": {
          "model_module": "@jupyter-widgets/base",
          "model_name": "LayoutModel",
          "model_module_version": "1.2.0",
          "state": {
            "_model_module": "@jupyter-widgets/base",
            "_model_module_version": "1.2.0",
            "_model_name": "LayoutModel",
            "_view_count": null,
            "_view_module": "@jupyter-widgets/base",
            "_view_module_version": "1.2.0",
            "_view_name": "LayoutView",
            "align_content": null,
            "align_items": null,
            "align_self": null,
            "border": null,
            "bottom": null,
            "display": null,
            "flex": null,
            "flex_flow": null,
            "grid_area": null,
            "grid_auto_columns": null,
            "grid_auto_flow": null,
            "grid_auto_rows": null,
            "grid_column": null,
            "grid_gap": null,
            "grid_row": null,
            "grid_template_areas": null,
            "grid_template_columns": null,
            "grid_template_rows": null,
            "height": null,
            "justify_content": null,
            "justify_items": null,
            "left": null,
            "margin": null,
            "max_height": null,
            "max_width": null,
            "min_height": null,
            "min_width": null,
            "object_fit": null,
            "object_position": null,
            "order": null,
            "overflow": null,
            "overflow_x": null,
            "overflow_y": null,
            "padding": null,
            "right": null,
            "top": null,
            "visibility": null,
            "width": null
          }
        },
        "82f4a099fa1a4e7d9ffc7260dca067d4": {
          "model_module": "@jupyter-widgets/controls",
          "model_name": "DescriptionStyleModel",
          "model_module_version": "1.5.0",
          "state": {
            "_model_module": "@jupyter-widgets/controls",
            "_model_module_version": "1.5.0",
            "_model_name": "DescriptionStyleModel",
            "_view_count": null,
            "_view_module": "@jupyter-widgets/base",
            "_view_module_version": "1.2.0",
            "_view_name": "StyleView",
            "description_width": ""
          }
        }
      }
    }
  },
  "nbformat": 4,
  "nbformat_minor": 0
}